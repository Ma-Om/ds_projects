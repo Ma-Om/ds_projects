{
 "cells": [
  {
   "cell_type": "markdown",
   "metadata": {},
   "source": [
    "# Определение стоимости автомобилей"
   ]
  },
  {
   "cell_type": "markdown",
   "metadata": {},
   "source": [
    "Сервис по продаже автомобилей с пробегом разрабатывает приложение для привлечения новых клиентов. В нём можно быстро узнать рыночную стоимость своего автомобиля. В вашем распоряжении исторические данные: технические характеристики, комплектации и цены автомобилей. Нужно построить модель для определения стоимости. \n",
    "\n",
    "Заказчику важны:\n",
    "\n",
    "- качество предсказания;\n",
    "- скорость предсказания;\n",
    "- время обучения."
   ]
  },
  {
   "cell_type": "markdown",
   "metadata": {},
   "source": [
    "# Подключение и настройка необходимых библиотек"
   ]
  },
  {
   "cell_type": "code",
   "execution_count": 1,
   "metadata": {},
   "outputs": [],
   "source": [
    "# отключение предупреждений\n",
    "import warnings; warnings.filterwarnings('ignore', category=Warning)"
   ]
  },
  {
   "cell_type": "code",
   "execution_count": 2,
   "metadata": {},
   "outputs": [],
   "source": [
    "# pip install -U scikit-learn"
   ]
  },
  {
   "cell_type": "code",
   "execution_count": 3,
   "metadata": {},
   "outputs": [],
   "source": [
    "import numpy as np\n",
    "import pandas as pd\n",
    "import seaborn as sns\n",
    "import matplotlib.pyplot as plt\n",
    "from timeit import default_timer as timer\n",
    "from datetime import timedelta\n",
    "\n",
    "pd.options.display.float_format = '{:.3f}'.format"
   ]
  },
  {
   "cell_type": "code",
   "execution_count": 4,
   "metadata": {},
   "outputs": [],
   "source": [
    "# подключение библиотек машинного обучения\n",
    "\n",
    "from sklearn.dummy import DummyRegressor\n",
    "from sklearn.model_selection import train_test_split, RandomizedSearchCV\n",
    "from sklearn.pipeline import Pipeline\n",
    "\n",
    "from sklearn.preprocessing import StandardScaler, OneHotEncoder, OrdinalEncoder\n",
    "from sklearn.compose import ColumnTransformer\n",
    "from sklearn.impute import SimpleImputer\n",
    "\n",
    "from sklearn.metrics import mean_squared_error, make_scorer\n",
    "from sklearn.model_selection import cross_validate, cross_val_score\n",
    "from functools import partial\n",
    "\n",
    "from sklearn.linear_model import LinearRegression\n",
    "from sklearn.ensemble import RandomForestRegressor\n",
    "from lightgbm import LGBMRegressor as lgbr\n",
    "from catboost import CatBoostRegressor as ctbr"
   ]
  },
  {
   "cell_type": "markdown",
   "metadata": {},
   "source": [
    "## Подготовка данных"
   ]
  },
  {
   "cell_type": "markdown",
   "metadata": {},
   "source": [
    "### Общая информация"
   ]
  },
  {
   "cell_type": "code",
   "execution_count": 5,
   "metadata": {},
   "outputs": [],
   "source": [
    "try:\n",
    "    data = pd.read_csv('datasets/autos.csv')\n",
    "except FileNotFoundError:\n",
    "    data = pd.read_csv('https://code.s3/datasets/autos.csv')"
   ]
  },
  {
   "cell_type": "code",
   "execution_count": 6,
   "metadata": {},
   "outputs": [
    {
     "data": {
      "text/html": [
       "<div>\n",
       "<style scoped>\n",
       "    .dataframe tbody tr th:only-of-type {\n",
       "        vertical-align: middle;\n",
       "    }\n",
       "\n",
       "    .dataframe tbody tr th {\n",
       "        vertical-align: top;\n",
       "    }\n",
       "\n",
       "    .dataframe thead th {\n",
       "        text-align: right;\n",
       "    }\n",
       "</style>\n",
       "<table border=\"1\" class=\"dataframe\">\n",
       "  <thead>\n",
       "    <tr style=\"text-align: right;\">\n",
       "      <th></th>\n",
       "      <th>DateCrawled</th>\n",
       "      <th>Price</th>\n",
       "      <th>VehicleType</th>\n",
       "      <th>RegistrationYear</th>\n",
       "      <th>Gearbox</th>\n",
       "      <th>Power</th>\n",
       "      <th>Model</th>\n",
       "      <th>Kilometer</th>\n",
       "      <th>RegistrationMonth</th>\n",
       "      <th>FuelType</th>\n",
       "      <th>Brand</th>\n",
       "      <th>NotRepaired</th>\n",
       "      <th>DateCreated</th>\n",
       "      <th>NumberOfPictures</th>\n",
       "      <th>PostalCode</th>\n",
       "      <th>LastSeen</th>\n",
       "    </tr>\n",
       "  </thead>\n",
       "  <tbody>\n",
       "    <tr>\n",
       "      <th>0</th>\n",
       "      <td>2016-03-24 11:52:17</td>\n",
       "      <td>480</td>\n",
       "      <td>NaN</td>\n",
       "      <td>1993</td>\n",
       "      <td>manual</td>\n",
       "      <td>0</td>\n",
       "      <td>golf</td>\n",
       "      <td>150000</td>\n",
       "      <td>0</td>\n",
       "      <td>petrol</td>\n",
       "      <td>volkswagen</td>\n",
       "      <td>NaN</td>\n",
       "      <td>2016-03-24 00:00:00</td>\n",
       "      <td>0</td>\n",
       "      <td>70435</td>\n",
       "      <td>2016-04-07 03:16:57</td>\n",
       "    </tr>\n",
       "    <tr>\n",
       "      <th>1</th>\n",
       "      <td>2016-03-24 10:58:45</td>\n",
       "      <td>18300</td>\n",
       "      <td>coupe</td>\n",
       "      <td>2011</td>\n",
       "      <td>manual</td>\n",
       "      <td>190</td>\n",
       "      <td>NaN</td>\n",
       "      <td>125000</td>\n",
       "      <td>5</td>\n",
       "      <td>gasoline</td>\n",
       "      <td>audi</td>\n",
       "      <td>yes</td>\n",
       "      <td>2016-03-24 00:00:00</td>\n",
       "      <td>0</td>\n",
       "      <td>66954</td>\n",
       "      <td>2016-04-07 01:46:50</td>\n",
       "    </tr>\n",
       "    <tr>\n",
       "      <th>2</th>\n",
       "      <td>2016-03-14 12:52:21</td>\n",
       "      <td>9800</td>\n",
       "      <td>suv</td>\n",
       "      <td>2004</td>\n",
       "      <td>auto</td>\n",
       "      <td>163</td>\n",
       "      <td>grand</td>\n",
       "      <td>125000</td>\n",
       "      <td>8</td>\n",
       "      <td>gasoline</td>\n",
       "      <td>jeep</td>\n",
       "      <td>NaN</td>\n",
       "      <td>2016-03-14 00:00:00</td>\n",
       "      <td>0</td>\n",
       "      <td>90480</td>\n",
       "      <td>2016-04-05 12:47:46</td>\n",
       "    </tr>\n",
       "    <tr>\n",
       "      <th>3</th>\n",
       "      <td>2016-03-17 16:54:04</td>\n",
       "      <td>1500</td>\n",
       "      <td>small</td>\n",
       "      <td>2001</td>\n",
       "      <td>manual</td>\n",
       "      <td>75</td>\n",
       "      <td>golf</td>\n",
       "      <td>150000</td>\n",
       "      <td>6</td>\n",
       "      <td>petrol</td>\n",
       "      <td>volkswagen</td>\n",
       "      <td>no</td>\n",
       "      <td>2016-03-17 00:00:00</td>\n",
       "      <td>0</td>\n",
       "      <td>91074</td>\n",
       "      <td>2016-03-17 17:40:17</td>\n",
       "    </tr>\n",
       "    <tr>\n",
       "      <th>4</th>\n",
       "      <td>2016-03-31 17:25:20</td>\n",
       "      <td>3600</td>\n",
       "      <td>small</td>\n",
       "      <td>2008</td>\n",
       "      <td>manual</td>\n",
       "      <td>69</td>\n",
       "      <td>fabia</td>\n",
       "      <td>90000</td>\n",
       "      <td>7</td>\n",
       "      <td>gasoline</td>\n",
       "      <td>skoda</td>\n",
       "      <td>no</td>\n",
       "      <td>2016-03-31 00:00:00</td>\n",
       "      <td>0</td>\n",
       "      <td>60437</td>\n",
       "      <td>2016-04-06 10:17:21</td>\n",
       "    </tr>\n",
       "  </tbody>\n",
       "</table>\n",
       "</div>"
      ],
      "text/plain": [
       "           DateCrawled  Price VehicleType  RegistrationYear Gearbox  Power  \\\n",
       "0  2016-03-24 11:52:17    480         NaN              1993  manual      0   \n",
       "1  2016-03-24 10:58:45  18300       coupe              2011  manual    190   \n",
       "2  2016-03-14 12:52:21   9800         suv              2004    auto    163   \n",
       "3  2016-03-17 16:54:04   1500       small              2001  manual     75   \n",
       "4  2016-03-31 17:25:20   3600       small              2008  manual     69   \n",
       "\n",
       "   Model  Kilometer  RegistrationMonth  FuelType       Brand NotRepaired  \\\n",
       "0   golf     150000                  0    petrol  volkswagen         NaN   \n",
       "1    NaN     125000                  5  gasoline        audi         yes   \n",
       "2  grand     125000                  8  gasoline        jeep         NaN   \n",
       "3   golf     150000                  6    petrol  volkswagen          no   \n",
       "4  fabia      90000                  7  gasoline       skoda          no   \n",
       "\n",
       "           DateCreated  NumberOfPictures  PostalCode             LastSeen  \n",
       "0  2016-03-24 00:00:00                 0       70435  2016-04-07 03:16:57  \n",
       "1  2016-03-24 00:00:00                 0       66954  2016-04-07 01:46:50  \n",
       "2  2016-03-14 00:00:00                 0       90480  2016-04-05 12:47:46  \n",
       "3  2016-03-17 00:00:00                 0       91074  2016-03-17 17:40:17  \n",
       "4  2016-03-31 00:00:00                 0       60437  2016-04-06 10:17:21  "
      ]
     },
     "execution_count": 6,
     "metadata": {},
     "output_type": "execute_result"
    }
   ],
   "source": [
    "# взглянем на данные\n",
    "data.head()"
   ]
  },
  {
   "cell_type": "code",
   "execution_count": 7,
   "metadata": {},
   "outputs": [],
   "source": [
    "# сразу удалим ненужные столбцы, которые содержат личную информацию и не влияют на стоимость машины \n",
    "data = data.drop(['DateCrawled', 'DateCreated', 'LastSeen', 'NumberOfPictures', 'PostalCode'], axis=1)"
   ]
  },
  {
   "cell_type": "code",
   "execution_count": 8,
   "metadata": {},
   "outputs": [
    {
     "data": {
      "text/html": [
       "<div>\n",
       "<style scoped>\n",
       "    .dataframe tbody tr th:only-of-type {\n",
       "        vertical-align: middle;\n",
       "    }\n",
       "\n",
       "    .dataframe tbody tr th {\n",
       "        vertical-align: top;\n",
       "    }\n",
       "\n",
       "    .dataframe thead th {\n",
       "        text-align: right;\n",
       "    }\n",
       "</style>\n",
       "<table border=\"1\" class=\"dataframe\">\n",
       "  <thead>\n",
       "    <tr style=\"text-align: right;\">\n",
       "      <th></th>\n",
       "      <th>Price</th>\n",
       "      <th>RegistrationYear</th>\n",
       "      <th>Power</th>\n",
       "      <th>Kilometer</th>\n",
       "      <th>RegistrationMonth</th>\n",
       "    </tr>\n",
       "  </thead>\n",
       "  <tbody>\n",
       "    <tr>\n",
       "      <th>Price</th>\n",
       "      <td>1.000</td>\n",
       "      <td>0.027</td>\n",
       "      <td>0.159</td>\n",
       "      <td>-0.333</td>\n",
       "      <td>0.111</td>\n",
       "    </tr>\n",
       "    <tr>\n",
       "      <th>RegistrationYear</th>\n",
       "      <td>0.027</td>\n",
       "      <td>1.000</td>\n",
       "      <td>-0.001</td>\n",
       "      <td>-0.053</td>\n",
       "      <td>-0.012</td>\n",
       "    </tr>\n",
       "    <tr>\n",
       "      <th>Power</th>\n",
       "      <td>0.159</td>\n",
       "      <td>-0.001</td>\n",
       "      <td>1.000</td>\n",
       "      <td>0.024</td>\n",
       "      <td>0.043</td>\n",
       "    </tr>\n",
       "    <tr>\n",
       "      <th>Kilometer</th>\n",
       "      <td>-0.333</td>\n",
       "      <td>-0.053</td>\n",
       "      <td>0.024</td>\n",
       "      <td>1.000</td>\n",
       "      <td>0.010</td>\n",
       "    </tr>\n",
       "    <tr>\n",
       "      <th>RegistrationMonth</th>\n",
       "      <td>0.111</td>\n",
       "      <td>-0.012</td>\n",
       "      <td>0.043</td>\n",
       "      <td>0.010</td>\n",
       "      <td>1.000</td>\n",
       "    </tr>\n",
       "  </tbody>\n",
       "</table>\n",
       "</div>"
      ],
      "text/plain": [
       "                   Price  RegistrationYear  Power  Kilometer  \\\n",
       "Price              1.000             0.027  0.159     -0.333   \n",
       "RegistrationYear   0.027             1.000 -0.001     -0.053   \n",
       "Power              0.159            -0.001  1.000      0.024   \n",
       "Kilometer         -0.333            -0.053  0.024      1.000   \n",
       "RegistrationMonth  0.111            -0.012  0.043      0.010   \n",
       "\n",
       "                   RegistrationMonth  \n",
       "Price                          0.111  \n",
       "RegistrationYear              -0.012  \n",
       "Power                          0.043  \n",
       "Kilometer                      0.010  \n",
       "RegistrationMonth              1.000  "
      ]
     },
     "execution_count": 8,
     "metadata": {},
     "output_type": "execute_result"
    }
   ],
   "source": [
    "# теперь взглянем на таблицу корреляции признаков\n",
    "data.corr()"
   ]
  },
  {
   "cell_type": "code",
   "execution_count": 9,
   "metadata": {},
   "outputs": [
    {
     "name": "stdout",
     "output_type": "stream",
     "text": [
      "<class 'pandas.core.frame.DataFrame'>\n",
      "RangeIndex: 354369 entries, 0 to 354368\n",
      "Data columns (total 11 columns):\n",
      " #   Column             Non-Null Count   Dtype \n",
      "---  ------             --------------   ----- \n",
      " 0   Price              354369 non-null  int64 \n",
      " 1   VehicleType        316879 non-null  object\n",
      " 2   RegistrationYear   354369 non-null  int64 \n",
      " 3   Gearbox            334536 non-null  object\n",
      " 4   Power              354369 non-null  int64 \n",
      " 5   Model              334664 non-null  object\n",
      " 6   Kilometer          354369 non-null  int64 \n",
      " 7   RegistrationMonth  354369 non-null  int64 \n",
      " 8   FuelType           321474 non-null  object\n",
      " 9   Brand              354369 non-null  object\n",
      " 10  NotRepaired        283215 non-null  object\n",
      "dtypes: int64(5), object(6)\n",
      "memory usage: 29.7+ MB\n"
     ]
    }
   ],
   "source": [
    "# при проверке не были обнаружены мультиколлинеарные признаки, посмотрим на общую инфу\n",
    "data.info()"
   ]
  },
  {
   "cell_type": "code",
   "execution_count": 10,
   "metadata": {},
   "outputs": [
    {
     "data": {
      "text/plain": [
       "Price                    0\n",
       "VehicleType          37490\n",
       "RegistrationYear         0\n",
       "Gearbox              19833\n",
       "Power                    0\n",
       "Model                19705\n",
       "Kilometer                0\n",
       "RegistrationMonth        0\n",
       "FuelType             32895\n",
       "Brand                    0\n",
       "NotRepaired          71154\n",
       "dtype: int64"
      ]
     },
     "execution_count": 10,
     "metadata": {},
     "output_type": "execute_result"
    }
   ],
   "source": [
    "# заметили пропущенные значения, посчитаем их количество\n",
    "data.isna().sum()"
   ]
  },
  {
   "cell_type": "code",
   "execution_count": 11,
   "metadata": {},
   "outputs": [
    {
     "data": {
      "text/html": [
       "<div>\n",
       "<style scoped>\n",
       "    .dataframe tbody tr th:only-of-type {\n",
       "        vertical-align: middle;\n",
       "    }\n",
       "\n",
       "    .dataframe tbody tr th {\n",
       "        vertical-align: top;\n",
       "    }\n",
       "\n",
       "    .dataframe thead th {\n",
       "        text-align: right;\n",
       "    }\n",
       "</style>\n",
       "<table border=\"1\" class=\"dataframe\">\n",
       "  <thead>\n",
       "    <tr style=\"text-align: right;\">\n",
       "      <th></th>\n",
       "      <th>Price</th>\n",
       "      <th>RegistrationYear</th>\n",
       "      <th>Power</th>\n",
       "      <th>Kilometer</th>\n",
       "      <th>RegistrationMonth</th>\n",
       "    </tr>\n",
       "  </thead>\n",
       "  <tbody>\n",
       "    <tr>\n",
       "      <th>count</th>\n",
       "      <td>354369.000</td>\n",
       "      <td>354369.000</td>\n",
       "      <td>354369.000</td>\n",
       "      <td>354369.000</td>\n",
       "      <td>354369.000</td>\n",
       "    </tr>\n",
       "    <tr>\n",
       "      <th>mean</th>\n",
       "      <td>4416.657</td>\n",
       "      <td>2004.234</td>\n",
       "      <td>110.094</td>\n",
       "      <td>128211.173</td>\n",
       "      <td>5.715</td>\n",
       "    </tr>\n",
       "    <tr>\n",
       "      <th>std</th>\n",
       "      <td>4514.159</td>\n",
       "      <td>90.228</td>\n",
       "      <td>189.850</td>\n",
       "      <td>37905.342</td>\n",
       "      <td>3.726</td>\n",
       "    </tr>\n",
       "    <tr>\n",
       "      <th>min</th>\n",
       "      <td>0.000</td>\n",
       "      <td>1000.000</td>\n",
       "      <td>0.000</td>\n",
       "      <td>5000.000</td>\n",
       "      <td>0.000</td>\n",
       "    </tr>\n",
       "    <tr>\n",
       "      <th>25%</th>\n",
       "      <td>1050.000</td>\n",
       "      <td>1999.000</td>\n",
       "      <td>69.000</td>\n",
       "      <td>125000.000</td>\n",
       "      <td>3.000</td>\n",
       "    </tr>\n",
       "    <tr>\n",
       "      <th>50%</th>\n",
       "      <td>2700.000</td>\n",
       "      <td>2003.000</td>\n",
       "      <td>105.000</td>\n",
       "      <td>150000.000</td>\n",
       "      <td>6.000</td>\n",
       "    </tr>\n",
       "    <tr>\n",
       "      <th>75%</th>\n",
       "      <td>6400.000</td>\n",
       "      <td>2008.000</td>\n",
       "      <td>143.000</td>\n",
       "      <td>150000.000</td>\n",
       "      <td>9.000</td>\n",
       "    </tr>\n",
       "    <tr>\n",
       "      <th>max</th>\n",
       "      <td>20000.000</td>\n",
       "      <td>9999.000</td>\n",
       "      <td>20000.000</td>\n",
       "      <td>150000.000</td>\n",
       "      <td>12.000</td>\n",
       "    </tr>\n",
       "  </tbody>\n",
       "</table>\n",
       "</div>"
      ],
      "text/plain": [
       "           Price  RegistrationYear      Power  Kilometer  RegistrationMonth\n",
       "count 354369.000        354369.000 354369.000 354369.000         354369.000\n",
       "mean    4416.657          2004.234    110.094 128211.173              5.715\n",
       "std     4514.159            90.228    189.850  37905.342              3.726\n",
       "min        0.000          1000.000      0.000   5000.000              0.000\n",
       "25%     1050.000          1999.000     69.000 125000.000              3.000\n",
       "50%     2700.000          2003.000    105.000 150000.000              6.000\n",
       "75%     6400.000          2008.000    143.000 150000.000              9.000\n",
       "max    20000.000          9999.000  20000.000 150000.000             12.000"
      ]
     },
     "execution_count": 11,
     "metadata": {},
     "output_type": "execute_result"
    }
   ],
   "source": [
    "# взгянем на распределение признаков, чтобы выявить аномальные данные\n",
    "data.describe()"
   ]
  },
  {
   "cell_type": "markdown",
   "metadata": {},
   "source": [
    "Заметны необычные данные:\n",
    "- Нулевые значения в колонках `Price` `Power` -- похоже на выбросы\n",
    "- `Kilometer` проверим на выбросы\n",
    "- `RegistrationMonth` нулевые значения удалим\n",
    "- `RegistrationYear` удалим несущесвующие года\n",
    "\n",
    "Теперь подробнее поработаем с пропущенными значениями и выбросами, но сначала проверим данные на наличие дубликатов"
   ]
  },
  {
   "cell_type": "code",
   "execution_count": 12,
   "metadata": {},
   "outputs": [
    {
     "data": {
      "text/plain": [
       "27543"
      ]
     },
     "execution_count": 12,
     "metadata": {},
     "output_type": "execute_result"
    }
   ],
   "source": [
    "data.duplicated().sum()"
   ]
  },
  {
   "cell_type": "code",
   "execution_count": 13,
   "metadata": {},
   "outputs": [],
   "source": [
    "# удалим их\n",
    "data = data.drop_duplicates()"
   ]
  },
  {
   "cell_type": "markdown",
   "metadata": {},
   "source": [
    "### Аномальные значения"
   ]
  },
  {
   "cell_type": "code",
   "execution_count": 14,
   "metadata": {},
   "outputs": [],
   "source": [
    "#напишем функцию, благодаря которой мы сможем увидеть распределение признаков\n",
    "\n",
    "def data_plot(data):\n",
    "    \"\"\"Строим сетку, где будут располагаться наши графики для каждого признака\"\"\"\n",
    "    \n",
    "    hist_box = plt.figure(figsize=(16, 8), constrained_layout=False)\n",
    "    plt.title('Гистограммы распределений признаков', fontsize=20)\n",
    "    plt.xticks([])\n",
    "    plt.yticks([])\n",
    "\n",
    "    grid = hist_box.add_gridspec(8, 14, wspace=1.7, hspace=0.1)\n",
    "    \n",
    "    # Boxplot и Hist для признака Price\n",
    "    Price_b = hist_box.add_subplot(grid[0, :6])\n",
    "    Price_h = hist_box.add_subplot(grid[1:3, :6])\n",
    "    sns.boxplot(x='Price', data = data, ax=Price_b, color='pink')\n",
    "    sns.distplot(data['Price'], ax=Price_h, color='pink')\n",
    "\n",
    "    # Boxplot и Hist для признака Power \n",
    "    Power_b = hist_box.add_subplot(grid[0, 7:13])\n",
    "    Power_h = hist_box.add_subplot(grid[1:3, 7:13])\n",
    "    sns.boxplot(x='Power', data = data, ax=Power_b, color='green')\n",
    "    sns.distplot(data['Power'], ax=Power_h, color='green')\n",
    "\n",
    "    # Boxplot и Hist для признака Kilometer\n",
    "    Kilometer_b = hist_box.add_subplot(grid[4, :6])\n",
    "    Kilometer_h = hist_box.add_subplot(grid[5:7, :6])\n",
    "    sns.boxplot(x='Kilometer', data = data, ax=Kilometer_b, color='blue')\n",
    "    sns.distplot(data['Kilometer'], ax=Kilometer_h, color='blue')\n",
    "\n",
    "    # Hist для Year и Month \n",
    "    year_h = hist_box.add_subplot(grid[4:5, 7:13])\n",
    "    month_h = hist_box.add_subplot(grid[6:7, 7:13])\n",
    "    sns.distplot(data['RegistrationYear'], ax=year_h, color='orange')\n",
    "    sns.distplot(data['RegistrationMonth'], ax=month_h, color='orange');"
   ]
  },
  {
   "cell_type": "code",
   "execution_count": 15,
   "metadata": {},
   "outputs": [
    {
     "data": {
      "image/png": "[encoded data removed]",
      "text/plain": [
       "<Figure size 1152x576 with 9 Axes>"
      ]
     },
     "metadata": {
      "needs_background": "light"
     },
     "output_type": "display_data"
    }
   ],
   "source": [
    "data_plot(data)"
   ]
  },
  {
   "cell_type": "markdown",
   "metadata": {},
   "source": [
    "`Price`:\n",
    "- Цены, выше 15000 -- выбросы. Нулевые значения, скорее всего, \"отдам даром\", но так как мы делаем сервис, который будет предсказывать рыночную стоимость авто, эти данные целесообразнее удалить \n",
    "\n",
    "`Power`:\n",
    "- Машины, мощностью больше 5000 лошадиных сил -- это уже нереалистичные суперкары и больше походят на выбросы, чем реальные данные. Ограничим их, а нулевые значения заполним в зависимости от модели\n",
    "\n",
    "`Kilometer`:\n",
    "- Теоретически продаваться машины без пробега могут (вдруг скрутили), поэтому оставим их, плюс их не так много\n",
    "\n",
    "`Year`:\n",
    "- Года больше 2021 удалим, не станем заглядывать в будущее без надобности. Как и данные о машинах ранее 1980 года\n",
    "\n",
    "`Month`:\n",
    "- Удалим нулевые месяцы "
   ]
  },
  {
   "cell_type": "code",
   "execution_count": 16,
   "metadata": {},
   "outputs": [],
   "source": [
    "# учтем все требования\n",
    "data = data.query(\n",
    "    '(0 < Price < 15000) & (Power < 5000) & (1980<= RegistrationYear <= 2021) & (RegistrationMonth != 0)'\n",
    ")"
   ]
  },
  {
   "cell_type": "markdown",
   "metadata": {},
   "source": [
    "Итак, в нашем изначальном наборе данных было 354 369 данных, стало 269 994, то есть мы уменьшили размер нашей выборки примерно на четверть. Не станем удалять пропуски и заполним их в зависимости от пропущенных данных"
   ]
  },
  {
   "cell_type": "code",
   "execution_count": 17,
   "metadata": {},
   "outputs": [],
   "source": [
    "# еще можно заметить интересную особенность, gasoline и petrol в английском языке -- это одно и то же, поэтому переименуем \n",
    "data['FuelType'].where(data['FuelType'] != 'gasoline', 'petrol', inplace=True)"
   ]
  },
  {
   "cell_type": "code",
   "execution_count": 18,
   "metadata": {},
   "outputs": [],
   "source": [
    "# lpg и cng -- это все природный газ, можно объединить в other\n",
    "data['FuelType'] = data['FuelType'].replace({'lpg': 'other', 'cng': 'other'})"
   ]
  },
  {
   "cell_type": "markdown",
   "metadata": {},
   "source": [
    "### Пропущенные значения"
   ]
  },
  {
   "cell_type": "code",
   "execution_count": 19,
   "metadata": {},
   "outputs": [
    {
     "data": {
      "text/plain": [
       "Price                    0\n",
       "VehicleType          20016\n",
       "RegistrationYear         0\n",
       "Gearbox               8141\n",
       "Power                    0\n",
       "Model                10915\n",
       "Kilometer                0\n",
       "RegistrationMonth        0\n",
       "FuelType             16975\n",
       "Brand                    0\n",
       "NotRepaired          42756\n",
       "dtype: int64"
      ]
     },
     "execution_count": 19,
     "metadata": {},
     "output_type": "execute_result"
    }
   ],
   "source": [
    "# еще раз глянем, сколько пропущенных значений осталось\n",
    "data.isna().sum()"
   ]
  },
  {
   "cell_type": "markdown",
   "metadata": {},
   "source": [
    "Пропуски заполним по такой логике:\n",
    "- `Model` -- самым часто встречающимся в зависимости от бренда \n",
    "- `VehicleType`, `Gearbox` и `FuelType` зависят от модели авто, заполним также модой\n",
    "- `NotRepaired` постараемся дополнить методом ближайших соседей (очень долго, лучше просто модой :)"
   ]
  },
  {
   "cell_type": "code",
   "execution_count": 20,
   "metadata": {},
   "outputs": [],
   "source": [
    "# пропущенные значения заполним нулями\n",
    "data[['Model','VehicleType','Gearbox','FuelType']] = data[['Model','VehicleType','Gearbox','FuelType']].fillna(0)"
   ]
  },
  {
   "cell_type": "code",
   "execution_count": 21,
   "metadata": {},
   "outputs": [],
   "source": [
    "#выделим самую частую модель каждого бренда\n",
    "brand_model = data.groupby('Brand').agg(lambda x: x.mode(dropna=False)[0])['Model']"
   ]
  },
  {
   "cell_type": "code",
   "execution_count": 22,
   "metadata": {},
   "outputs": [],
   "source": [
    "# заполним пропуски\n",
    "data.loc[data['Model']==0, 'Model'] = data.loc[\n",
    "    data['Model']==0, 'Model'].apply(lambda x: brand_model[x])"
   ]
  },
  {
   "cell_type": "markdown",
   "metadata": {},
   "source": [
    "У разных брендов машин модель может называться одинаковo. Поэтому сделаем дополнительных столбец \"бренд+модель\""
   ]
  },
  {
   "cell_type": "code",
   "execution_count": 23,
   "metadata": {},
   "outputs": [],
   "source": [
    "data['BrandModel'] = data['Brand'] + ' ' + data['Model']"
   ]
  },
  {
   "cell_type": "code",
   "execution_count": 24,
   "metadata": {},
   "outputs": [],
   "source": [
    "# повторим для данных, которые зависят от модели\n",
    "model_other = data.groupby('BrandModel').agg(lambda x: x.mode(dropna=False)[0])[['VehicleType','Gearbox','FuelType', 'Power']]"
   ]
  },
  {
   "cell_type": "code",
   "execution_count": 25,
   "metadata": {},
   "outputs": [],
   "source": [
    "# заполним пропуски\n",
    "for col in ['VehicleType','Gearbox','FuelType', 'Power']:\n",
    "    data.loc[data[col]==0, col] = data.loc[data[col]==0, col].apply(lambda x: model_other[col].get(x))"
   ]
  },
  {
   "cell_type": "markdown",
   "metadata": {},
   "source": [
    "Пропуски в колонке `NotRepaired` заполним модой, так как метод ближайших соседей уж очень долго работает. "
   ]
  },
  {
   "cell_type": "code",
   "execution_count": 26,
   "metadata": {},
   "outputs": [],
   "source": [
    "data['NotRepaired'] = data['NotRepaired'].fillna('no')"
   ]
  },
  {
   "cell_type": "code",
   "execution_count": 27,
   "metadata": {},
   "outputs": [],
   "source": [
    "data = data.reset_index(drop=True)"
   ]
  },
  {
   "cell_type": "code",
   "execution_count": 28,
   "metadata": {},
   "outputs": [
    {
     "data": {
      "text/plain": [
       "Price                0\n",
       "VehicleType          0\n",
       "RegistrationYear     0\n",
       "Gearbox              0\n",
       "Power                0\n",
       "Model                0\n",
       "Kilometer            0\n",
       "RegistrationMonth    0\n",
       "FuelType             0\n",
       "Brand                0\n",
       "NotRepaired          0\n",
       "BrandModel           0\n",
       "dtype: int64"
      ]
     },
     "execution_count": 28,
     "metadata": {},
     "output_type": "execute_result"
    }
   ],
   "source": [
    "#проверим результат\n",
    "data.isna().sum()"
   ]
  },
  {
   "cell_type": "code",
   "execution_count": 29,
   "metadata": {},
   "outputs": [],
   "source": [
    "# колонка с брендом и моделью автомобиля помогла нам при заполнении данных, теперь можем удалить ее\n",
    "data.drop('BrandModel', axis=1, inplace=True)"
   ]
  },
  {
   "cell_type": "markdown",
   "metadata": {},
   "source": [
    "### Кодировка данных"
   ]
  },
  {
   "cell_type": "code",
   "execution_count": 30,
   "metadata": {},
   "outputs": [],
   "source": [
    "# итак, у нас есть количественные признаки, которые нужно привести к одному масштабу\n",
    "# и категориальные переменные, которые нужно закодировать\n",
    "numeric = ['Power', 'Kilometer', 'RegistrationYear']\n",
    "\n",
    "categorical = ['VehicleType', 'Gearbox', 'Model', 'FuelType', 'Brand', 'NotRepaired']"
   ]
  },
  {
   "cell_type": "code",
   "execution_count": 31,
   "metadata": {},
   "outputs": [
    {
     "name": "stdout",
     "output_type": "stream",
     "text": [
      "VehicleType 8\n",
      "Gearbox 2\n",
      "Model 248\n",
      "FuelType 4\n",
      "Brand 40\n",
      "NotRepaired 2\n"
     ]
    }
   ],
   "source": [
    "# посмотрим, сколько категорий в каждом столбце, чтобы определиться с техникой кодирования\n",
    "[print(col, data[col].nunique()) for col in data[categorical]];"
   ]
  },
  {
   "cell_type": "markdown",
   "metadata": {},
   "source": [
    "Итак, к `VehicleType` `Gearbox` `FuelType` `NotRepaired` применим технику OHE, к колонкам `Model` и `Brand` применим Ordinal, чтобы не создавать очень много столбцов. "
   ]
  },
  {
   "cell_type": "code",
   "execution_count": 32,
   "metadata": {},
   "outputs": [],
   "source": [
    "def encoder_categorial(data):\n",
    "    data = pd.get_dummies(data, columns =['VehicleType', 'Gearbox', 'FuelType', 'NotRepaired'], drop_first=True)\n",
    "    data[['Brand', 'Model']] = OrdinalEncoder().fit_transform(data[['Brand', 'Model']])\n",
    "    return data"
   ]
  },
  {
   "cell_type": "code",
   "execution_count": 33,
   "metadata": {},
   "outputs": [],
   "source": [
    "categ_col = ['VehicleType', 'Gearbox', 'FuelType', 'NotRepaired', 'Brand', 'Model']\n",
    "data_ohe = pd.get_dummies(data, columns =categ_col, drop_first=True)"
   ]
  },
  {
   "cell_type": "code",
   "execution_count": 34,
   "metadata": {},
   "outputs": [],
   "source": [
    "data_encode = encoder_categorial(data)"
   ]
  },
  {
   "cell_type": "code",
   "execution_count": 35,
   "metadata": {},
   "outputs": [],
   "source": [
    "#приведем все колонки к типу int\n",
    "data_encode = data_encode.astype(int)\n",
    "data_ohe = data_ohe.astype(int)"
   ]
  },
  {
   "cell_type": "markdown",
   "metadata": {},
   "source": [
    "В кодировании категориальных признаков методом Ordinal есть один важный момент: модель будет считать, что в таких данных есть порядок, хотя это не так. Попробуем в дальнейшем создать датасет с большим количеством колонок, закодированный только методом OHE и проверим разницу. "
   ]
  },
  {
   "cell_type": "markdown",
   "metadata": {},
   "source": [
    "## Обучение моделей"
   ]
  },
  {
   "cell_type": "code",
   "execution_count": 36,
   "metadata": {},
   "outputs": [],
   "source": [
    "# отделим целевой признак\n",
    "X = data_encode.drop(['Price'], axis=1)\n",
    "y = data_encode['Price']\n",
    "\n",
    "X_ohe = data_ohe.drop(['Price'], axis=1)\n",
    "y_ohe = data_ohe['Price']"
   ]
  },
  {
   "cell_type": "code",
   "execution_count": 37,
   "metadata": {},
   "outputs": [],
   "source": [
    "# проверять модель будем на кросс-валидации, поэтому разделим выборку на тестовую и тренировочную\n",
    "X_train, X_test, y_train, y_test = train_test_split(\n",
    "    X, y, test_size=0.75, random_state=12\n",
    ")"
   ]
  },
  {
   "cell_type": "code",
   "execution_count": 38,
   "metadata": {},
   "outputs": [],
   "source": [
    "X_train_ohe, X_test_ohe, y_train_ohe, y_test_ohe = train_test_split(\n",
    "    X_ohe, y_ohe, test_size=0.75, random_state=12\n",
    ")"
   ]
  },
  {
   "cell_type": "code",
   "execution_count": 39,
   "metadata": {},
   "outputs": [
    {
     "name": "stdout",
     "output_type": "stream",
     "text": [
      "(67498, 18) (202496, 18)\n",
      "(67498,) (202496,)\n"
     ]
    }
   ],
   "source": [
    "# проверим размерность выборок\n",
    "print(X_train.shape, X_test.shape)\n",
    "print(y_train.shape, y_test.shape)"
   ]
  },
  {
   "cell_type": "code",
   "execution_count": 40,
   "metadata": {},
   "outputs": [],
   "source": [
    "# приведем числовые признаки к одному масштабу\n",
    "scaler = StandardScaler()\n",
    "scaler_ohe = StandardScaler()\n",
    "\n",
    "X_train[numeric] = scaler.fit_transform(X_train[numeric])\n",
    "X_train_ohe[numeric] = scaler_ohe.fit_transform(X_train_ohe[numeric])\n",
    "\n",
    "X_test[numeric] = scaler.transform(X_test[numeric])\n",
    "X_test_ohe[numeric] = scaler_ohe.transform(X_test_ohe[numeric])"
   ]
  },
  {
   "cell_type": "markdown",
   "metadata": {},
   "source": [
    "Метрикой качества будет RMSE. Для обучения используем модели LightGBM от майкрософт и CatBoost от яндекса. Помимо этого также проверим работу более простых моделей -- RandomForest и LinearRegressor"
   ]
  },
  {
   "cell_type": "code",
   "execution_count": 41,
   "metadata": {},
   "outputs": [],
   "source": [
    "rmse = partial(mean_squared_error, squared=False)"
   ]
  },
  {
   "cell_type": "code",
   "execution_count": 42,
   "metadata": {},
   "outputs": [],
   "source": [
    "# напишем функцию для определения результата кросс-валидации и времени обучения\n",
    "def cv_results_train(model):\n",
    "    cv = cross_validate(model, X_train, y_train, cv=3, scoring=make_scorer(rmse))\n",
    "    result = np.mean(cv['test_score'])\n",
    "    score_time = np.mean(cv['score_time'])\n",
    "    return result, score_time"
   ]
  },
  {
   "cell_type": "code",
   "execution_count": 43,
   "metadata": {},
   "outputs": [],
   "source": [
    "# и такую же для датасета, закодированным только методом ohe\n",
    "def ohe_cv_results_train(model):\n",
    "    cv = cross_validate(model, X_train_ohe, y_train_ohe, cv=3, scoring=make_scorer(rmse))\n",
    "    result = np.mean(cv['test_score'])\n",
    "    score_time = np.mean(cv['score_time'])\n",
    "    return result, score_time"
   ]
  },
  {
   "cell_type": "markdown",
   "metadata": {},
   "source": [
    "Перед тем, как приступить к обучению, создадим простейшую модель, которая всегда предсказывает средний результат. Так мы сможем сравнить результаты нашей будущей модели с результатами dummy модели, которая выдает только один вариант"
   ]
  },
  {
   "cell_type": "code",
   "execution_count": 44,
   "metadata": {},
   "outputs": [
    {
     "data": {
      "text/plain": [
       "DummyRegressor()"
      ]
     },
     "execution_count": 44,
     "metadata": {},
     "output_type": "execute_result"
    }
   ],
   "source": [
    "dummy_reg = DummyRegressor(strategy='mean')\n",
    "\n",
    "dummy_reg.fit(X_train, y_train)"
   ]
  },
  {
   "cell_type": "code",
   "execution_count": 45,
   "metadata": {},
   "outputs": [],
   "source": [
    "dummy_pred = dummy_reg.predict(X_test)"
   ]
  },
  {
   "cell_type": "code",
   "execution_count": 46,
   "metadata": {},
   "outputs": [
    {
     "data": {
      "text/plain": [
       "3658.0824091353197"
      ]
     },
     "execution_count": 46,
     "metadata": {},
     "output_type": "execute_result"
    }
   ],
   "source": [
    "mean_squared_error(y_test, dummy_pred)**0.5"
   ]
  },
  {
   "cell_type": "markdown",
   "metadata": {},
   "source": [
    "#### Линейная регрессия"
   ]
  },
  {
   "cell_type": "code",
   "execution_count": 47,
   "metadata": {},
   "outputs": [],
   "source": [
    "# посмотрим, как справится линейная регрессия\n",
    "reg = LinearRegression().fit(X_train_ohe, y_train_ohe)"
   ]
  },
  {
   "cell_type": "code",
   "execution_count": 48,
   "metadata": {},
   "outputs": [
    {
     "data": {
      "text/plain": [
       "(2317.6128004003344, 0.07613603274027507)"
      ]
     },
     "execution_count": 48,
     "metadata": {},
     "output_type": "execute_result"
    }
   ],
   "source": [
    "ohe_cv_results_train(reg)"
   ]
  },
  {
   "cell_type": "markdown",
   "metadata": {},
   "source": [
    "Линейная регрессия явно не лучшая в этом деле, хотя бы учится быстро. Интересно, что на данных, закодированных только OHE она справилась даже чуточку хуже"
   ]
  },
  {
   "cell_type": "markdown",
   "metadata": {},
   "source": [
    "#### Случайный лес"
   ]
  },
  {
   "cell_type": "code",
   "execution_count": 49,
   "metadata": {},
   "outputs": [],
   "source": [
    "rf = RandomForestRegressor(random_state=12).fit(X_train, y_train)"
   ]
  },
  {
   "cell_type": "code",
   "execution_count": 50,
   "metadata": {},
   "outputs": [
    {
     "data": {
      "text/plain": [
       "(1555.6099825961962, 1.941781997680664)"
      ]
     },
     "execution_count": 50,
     "metadata": {},
     "output_type": "execute_result"
    }
   ],
   "source": [
    "cv_results_train(rf)"
   ]
  },
  {
   "cell_type": "markdown",
   "metadata": {},
   "source": [
    "Ого, случайный лес, результат значительно лучше, запомним и посмотрим, как справятся бустинги"
   ]
  },
  {
   "cell_type": "code",
   "execution_count": 51,
   "metadata": {},
   "outputs": [],
   "source": [
    "# подберем гиперпараметры для него (обучается долго, поэтому я сразу введу найденные параметры )\n",
    "rf_params = {'max_depth':         range(10, 110, 10),\n",
    "             'n_estimators':      range(100, 500, 50),\n",
    "             'min_samples_split': range(2, 5, 10)}\n",
    "\n",
    "# rf_grid = RandomizedSearchCV(rf, rf_params, cv=3, n_jobs=-1)\n",
    "# rf_grid.fit(X_train, y_train)"
   ]
  },
  {
   "cell_type": "code",
   "execution_count": 54,
   "metadata": {},
   "outputs": [],
   "source": [
    "# запомним эту модель и позже проверим ее результат на тестовых данных\n",
    "rf_grid_best = RandomForestRegressor(n_estimators=450, min_samples_split=2, max_depth=100, random_state=12).fit(X_train, y_train)"
   ]
  },
  {
   "cell_type": "code",
   "execution_count": 55,
   "metadata": {},
   "outputs": [
    {
     "data": {
      "text/plain": [
       "(1550.4017146021968, 9.268867333730062)"
      ]
     },
     "execution_count": 55,
     "metadata": {},
     "output_type": "execute_result"
    }
   ],
   "source": [
    "cv_results_train(rf_grid_best)"
   ]
  },
  {
   "cell_type": "markdown",
   "metadata": {},
   "source": [
    "#### LightGBM"
   ]
  },
  {
   "cell_type": "code",
   "execution_count": 56,
   "metadata": {},
   "outputs": [],
   "source": [
    "# LightGBM параметры\n",
    "lgb_reg_params = {\n",
    "    'learning_rate':    np.arange(0.05, 0.31, 0.05),\n",
    "    'max_depth':        range(5, 16),\n",
    "    'min_child_weight': range(1, 8),\n",
    "    'n_estimators':     range(50, 150, 10),\n",
    "    'num_leaves':       range(30, 100, 20)\n",
    "}\n"
   ]
  },
  {
   "cell_type": "code",
   "execution_count": 57,
   "metadata": {},
   "outputs": [
    {
     "data": {
      "text/plain": [
       "LGBMRegressor()"
      ]
     },
     "execution_count": 57,
     "metadata": {},
     "output_type": "execute_result"
    }
   ],
   "source": [
    "lgb_model = lgbr()\n",
    "lgb_model.fit(X=X_train, y=y_train, eval_metric='l2', verbose=False)"
   ]
  },
  {
   "cell_type": "code",
   "execution_count": 58,
   "metadata": {},
   "outputs": [
    {
     "data": {
      "text/plain": [
       "(1503.045445118242, 0.1185132662455241)"
      ]
     },
     "execution_count": 58,
     "metadata": {},
     "output_type": "execute_result"
    }
   ],
   "source": [
    "cv_results_train(lgb_model)"
   ]
  },
  {
   "cell_type": "markdown",
   "metadata": {},
   "source": [
    "Результат значительно лучше, посмотрим, получится ли нам его улучшить после подбора параметров"
   ]
  },
  {
   "cell_type": "code",
   "execution_count": 59,
   "metadata": {},
   "outputs": [],
   "source": [
    "categorical_feature = ['Model',\n",
    "       'Brand', 'VehicleType_convertible', 'VehicleType_coupe',\n",
    "       'VehicleType_other', 'VehicleType_sedan', 'VehicleType_small',\n",
    "       'VehicleType_suv', 'VehicleType_wagon', 'Gearbox_manual',\n",
    "       'FuelType_hybrid', 'FuelType_other', 'FuelType_petrol',\n",
    "       'NotRepaired_yes']"
   ]
  },
  {
   "cell_type": "code",
   "execution_count": 60,
   "metadata": {},
   "outputs": [
    {
     "name": "stdout",
     "output_type": "stream",
     "text": [
      "CPU times: user 4.78 s, sys: 777 ms, total: 5.55 s\n",
      "Wall time: 21.7 s\n"
     ]
    },
    {
     "data": {
      "text/plain": [
       "RandomizedSearchCV(cv=3, estimator=LGBMRegressor(), n_jobs=-1,\n",
       "                   param_distributions={'learning_rate': array([0.05, 0.1 , 0.15, 0.2 , 0.25, 0.3 ]),\n",
       "                                        'max_depth': range(5, 16),\n",
       "                                        'min_child_weight': range(1, 8),\n",
       "                                        'n_estimators': range(50, 150, 10),\n",
       "                                        'num_leaves': range(30, 100, 20)})"
      ]
     },
     "execution_count": 60,
     "metadata": {},
     "output_type": "execute_result"
    }
   ],
   "source": [
    "%%time\n",
    "lgb_grid = RandomizedSearchCV(lgb_model, lgb_reg_params, cv=3, n_jobs=-1)\n",
    "lgb_grid.fit(X_train, y_train, categorical_feature=categorical_feature)"
   ]
  },
  {
   "cell_type": "code",
   "execution_count": 62,
   "metadata": {},
   "outputs": [
    {
     "data": {
      "text/plain": [
       "{'num_leaves': 50,\n",
       " 'n_estimators': 140,\n",
       " 'min_child_weight': 2,\n",
       " 'max_depth': 8,\n",
       " 'learning_rate': 0.15000000000000002}"
      ]
     },
     "execution_count": 62,
     "metadata": {},
     "output_type": "execute_result"
    }
   ],
   "source": [
    "# посмотрим на лучший результат\n",
    "lgb_grid.best_params_"
   ]
  },
  {
   "cell_type": "code",
   "execution_count": 63,
   "metadata": {},
   "outputs": [],
   "source": [
    "# запомним эту модель и проверим ее результат на нашей функции\n",
    "lgb_grid_best = lgbr(num_leaves=90, n_estimators=110, min_child_weight=4, max_depth=11, learning_rate=0.15)"
   ]
  },
  {
   "cell_type": "code",
   "execution_count": 64,
   "metadata": {},
   "outputs": [
    {
     "data": {
      "text/plain": [
       "LGBMRegressor(learning_rate=0.15, max_depth=11, min_child_weight=4,\n",
       "              n_estimators=110, num_leaves=90)"
      ]
     },
     "execution_count": 64,
     "metadata": {},
     "output_type": "execute_result"
    }
   ],
   "source": [
    "lgb_grid_best.fit(X_train, y_train, categorical_feature=categorical_feature)"
   ]
  },
  {
   "cell_type": "code",
   "execution_count": 65,
   "metadata": {},
   "outputs": [
    {
     "data": {
      "text/plain": [
       "(1458.2445061218116, 0.1749256451924642)"
      ]
     },
     "execution_count": 65,
     "metadata": {},
     "output_type": "execute_result"
    }
   ],
   "source": [
    "cv_results_train(lgb_grid_best)"
   ]
  },
  {
   "cell_type": "markdown",
   "metadata": {},
   "source": [
    "Действительно, немного лучше, чем с параметрами по умолчанию. Да и училась она довольно быстро -- сплошные плюсы. Теперь проверим CatBoost"
   ]
  },
  {
   "cell_type": "markdown",
   "metadata": {},
   "source": [
    "#### CatBoost"
   ]
  },
  {
   "cell_type": "code",
   "execution_count": 66,
   "metadata": {},
   "outputs": [],
   "source": [
    "# CatBoost параметры\n",
    "ctb_reg_params = {\n",
    "    'learning_rate':     np.arange(0.03, 0.2, 0.05),\n",
    "    'depth':             np.arange(6, 10),\n",
    "    'l2_leaf_reg':       np.arange(0.5, 3, 0.5)\n",
    "}"
   ]
  },
  {
   "cell_type": "code",
   "execution_count": 67,
   "metadata": {},
   "outputs": [
    {
     "name": "stdout",
     "output_type": "stream",
     "text": [
      "CPU times: user 32.8 s, sys: 4.79 s, total: 37.6 s\n",
      "Wall time: 15 s\n"
     ]
    },
    {
     "data": {
      "text/plain": [
       "<catboost.core.CatBoostRegressor at 0x1a342f5810>"
      ]
     },
     "execution_count": 67,
     "metadata": {},
     "output_type": "execute_result"
    }
   ],
   "source": [
    "%%time\n",
    "cat_model = ctbr(random_state=12,\n",
    "                 eval_metric='RMSE',\n",
    "                 iterations=1000,\n",
    "                 verbose=False)\n",
    "\n",
    "cat_model.fit(X=X_train, y=y_train, early_stopping_rounds=10)"
   ]
  },
  {
   "cell_type": "code",
   "execution_count": 68,
   "metadata": {},
   "outputs": [
    {
     "data": {
      "text/plain": [
       "(1461.773170544325, 0.061468919118245445)"
      ]
     },
     "execution_count": 68,
     "metadata": {},
     "output_type": "execute_result"
    }
   ],
   "source": [
    "cv_results_train(cat_model)"
   ]
  },
  {
   "cell_type": "markdown",
   "metadata": {},
   "source": [
    "CatBoost справился значительно лучше. Попробуем подобрать параметры для него и улучшить метрику"
   ]
  },
  {
   "cell_type": "code",
   "execution_count": 69,
   "metadata": {},
   "outputs": [
    {
     "data": {
      "text/plain": [
       "RandomizedSearchCV(cv=3,\n",
       "                   estimator=<catboost.core.CatBoostRegressor object at 0x1a342f5810>,\n",
       "                   n_jobs=-1,\n",
       "                   param_distributions={'depth': array([6, 7, 8, 9]),\n",
       "                                        'l2_leaf_reg': array([0.5, 1. , 1.5, 2. , 2.5]),\n",
       "                                        'learning_rate': array([0.03, 0.08, 0.13, 0.18])})"
      ]
     },
     "execution_count": 69,
     "metadata": {},
     "output_type": "execute_result"
    }
   ],
   "source": [
    "cat_grid = RandomizedSearchCV(cat_model, ctb_reg_params, cv=3, n_jobs=-1)\n",
    "cat_grid.fit(X_train, y_train, cat_features=categorical_feature)"
   ]
  },
  {
   "cell_type": "code",
   "execution_count": 70,
   "metadata": {},
   "outputs": [
    {
     "data": {
      "text/plain": [
       "{'learning_rate': 0.08, 'l2_leaf_reg': 1.0, 'depth': 9}"
      ]
     },
     "execution_count": 70,
     "metadata": {},
     "output_type": "execute_result"
    }
   ],
   "source": [
    "cat_grid.best_params_"
   ]
  },
  {
   "cell_type": "code",
   "execution_count": 71,
   "metadata": {},
   "outputs": [
    {
     "data": {
      "text/plain": [
       "<catboost.core.CatBoostRegressor at 0x1a342f54d0>"
      ]
     },
     "execution_count": 71,
     "metadata": {},
     "output_type": "execute_result"
    }
   ],
   "source": [
    "cat_grid_best = ctbr(\n",
    "    random_state=12,\n",
    "    eval_metric='RMSE',\n",
    "    iterations=1000,\n",
    "    verbose=False,\n",
    "    learning_rate=0.08,\n",
    "    l2_leaf_reg=1,\n",
    "    depth=8\n",
    ")\n",
    "\n",
    "cat_grid_best.fit(X=X_train, y=y_train, early_stopping_rounds=10, cat_features=categorical_feature)"
   ]
  },
  {
   "cell_type": "code",
   "execution_count": 72,
   "metadata": {},
   "outputs": [
    {
     "data": {
      "text/plain": [
       "(1450.776785962528, 0.03197034200032552)"
      ]
     },
     "execution_count": 72,
     "metadata": {},
     "output_type": "execute_result"
    }
   ],
   "source": [
    "cv_results_train(cat_grid_best)"
   ]
  },
  {
   "cell_type": "markdown",
   "metadata": {},
   "source": [
    "CatBoost победил в этой битве. Сравним результаты по времени обучения, результатам на тестовой выборках"
   ]
  },
  {
   "cell_type": "markdown",
   "metadata": {},
   "source": [
    "## Анализ моделей"
   ]
  },
  {
   "cell_type": "code",
   "execution_count": 73,
   "metadata": {},
   "outputs": [],
   "source": [
    "models = dict()"
   ]
  },
  {
   "cell_type": "code",
   "execution_count": 74,
   "metadata": {},
   "outputs": [],
   "source": [
    "# напишем функцию для удобства финального анализа\n",
    "def model_results(model, name: str):\n",
    "    \"\"\"Функция обучает модель и измеряет потраченное время. \n",
    "        Возвращает словарь:\n",
    "        - название\n",
    "        - время обучения\n",
    "        - качество модели на кросс-валидации\n",
    "        - качество на тестовой выборке\n",
    "    \"\"\"\n",
    "    global X_train, y_train, X_test, y_test\n",
    "    \n",
    "    # Измерим скорость обучения\n",
    "    start = timer()\n",
    "    model.fit(X_train, y_train)\n",
    "    end = timer()\n",
    "    fit_time = str(timedelta(seconds=end - start))\n",
    "    \n",
    "    \n",
    "    # Измерим скорость предсказаний\n",
    "    start = timer()\n",
    "    test_pred =  model.predict(X_test)\n",
    "    end = timer()\n",
    "    predict_time = str(timedelta(seconds=end - start))\n",
    "    score_test = rmse(y_test, test_pred)\n",
    "        \n",
    "    # Добавим показатели в словарь\n",
    "    models[name] = {'name': name,\n",
    "                    'fit_time': fit_time,\n",
    "                    'score_cv': cv_results_train(model)[0],\n",
    "                    'score_time': cv_results_train(model)[1],\n",
    "                    'score_test': score_test,\n",
    "                    'predict_time': predict_time}"
   ]
  },
  {
   "cell_type": "markdown",
   "metadata": {},
   "source": [
    "**У нас есть 5 моделей для сравнения:**\n",
    "- Случайный лес (rf)\n",
    "- LightGBM: параметры по умолчанию (lgb_model)\n",
    "- LightGBM: после подбора параметров (lgb_grid_best)\n",
    "- CatBoost: параметры по умолчанию (cat_model)\n",
    "- CatBoost: после подбора параметров (cat_grid_best)"
   ]
  },
  {
   "cell_type": "code",
   "execution_count": 75,
   "metadata": {},
   "outputs": [],
   "source": [
    "finish_model = {'Случайный лес': rf,\n",
    "                'LightGBM: по умолчанию': lgb_model,\n",
    "                'LightGBM: после подбора': lgb_grid_best,\n",
    "                'CatBoost: по умолчанию': cat_model,\n",
    "                'CatBoost: после подбора': cat_grid_best\n",
    "               }"
   ]
  },
  {
   "cell_type": "code",
   "execution_count": 76,
   "metadata": {},
   "outputs": [],
   "source": [
    "for model in finish_model.items():\n",
    "    model_results(model[1], model[0])"
   ]
  },
  {
   "cell_type": "code",
   "execution_count": 77,
   "metadata": {},
   "outputs": [],
   "source": [
    "score_table = pd.DataFrame.from_dict(data=models, orient='index').sort_values('score_test', ascending=False)"
   ]
  },
  {
   "cell_type": "code",
   "execution_count": 78,
   "metadata": {},
   "outputs": [
    {
     "data": {
      "text/html": [
       "<div>\n",
       "<style scoped>\n",
       "    .dataframe tbody tr th:only-of-type {\n",
       "        vertical-align: middle;\n",
       "    }\n",
       "\n",
       "    .dataframe tbody tr th {\n",
       "        vertical-align: top;\n",
       "    }\n",
       "\n",
       "    .dataframe thead th {\n",
       "        text-align: right;\n",
       "    }\n",
       "</style>\n",
       "<table border=\"1\" class=\"dataframe\">\n",
       "  <thead>\n",
       "    <tr style=\"text-align: right;\">\n",
       "      <th></th>\n",
       "      <th>name</th>\n",
       "      <th>fit_time</th>\n",
       "      <th>score_cv</th>\n",
       "      <th>score_time</th>\n",
       "      <th>score_test</th>\n",
       "      <th>predict_time</th>\n",
       "    </tr>\n",
       "  </thead>\n",
       "  <tbody>\n",
       "    <tr>\n",
       "      <th>Случайный лес</th>\n",
       "      <td>Случайный лес</td>\n",
       "      <td>0:00:34.687207</td>\n",
       "      <td>1555.610</td>\n",
       "      <td>1.605</td>\n",
       "      <td>1531.125</td>\n",
       "      <td>0:00:11.104922</td>\n",
       "    </tr>\n",
       "    <tr>\n",
       "      <th>LightGBM: по умолчанию</th>\n",
       "      <td>LightGBM: по умолчанию</td>\n",
       "      <td>0:00:00.860618</td>\n",
       "      <td>1503.045</td>\n",
       "      <td>0.128</td>\n",
       "      <td>1509.337</td>\n",
       "      <td>0:00:01.187194</td>\n",
       "    </tr>\n",
       "    <tr>\n",
       "      <th>CatBoost: по умолчанию</th>\n",
       "      <td>CatBoost: по умолчанию</td>\n",
       "      <td>0:00:14.896057</td>\n",
       "      <td>1461.773</td>\n",
       "      <td>0.023</td>\n",
       "      <td>1454.269</td>\n",
       "      <td>0:00:00.199638</td>\n",
       "    </tr>\n",
       "    <tr>\n",
       "      <th>LightGBM: после подбора</th>\n",
       "      <td>LightGBM: после подбора</td>\n",
       "      <td>0:00:00.951553</td>\n",
       "      <td>1458.245</td>\n",
       "      <td>0.243</td>\n",
       "      <td>1446.221</td>\n",
       "      <td>0:00:01.910787</td>\n",
       "    </tr>\n",
       "    <tr>\n",
       "      <th>CatBoost: после подбора</th>\n",
       "      <td>CatBoost: после подбора</td>\n",
       "      <td>0:00:16.838459</td>\n",
       "      <td>1450.777</td>\n",
       "      <td>0.037</td>\n",
       "      <td>1434.981</td>\n",
       "      <td>0:00:00.363306</td>\n",
       "    </tr>\n",
       "  </tbody>\n",
       "</table>\n",
       "</div>"
      ],
      "text/plain": [
       "                                            name        fit_time  score_cv  \\\n",
       "Случайный лес                      Случайный лес  0:00:34.687207  1555.610   \n",
       "LightGBM: по умолчанию    LightGBM: по умолчанию  0:00:00.860618  1503.045   \n",
       "CatBoost: по умолчанию    CatBoost: по умолчанию  0:00:14.896057  1461.773   \n",
       "LightGBM: после подбора  LightGBM: после подбора  0:00:00.951553  1458.245   \n",
       "CatBoost: после подбора  CatBoost: после подбора  0:00:16.838459  1450.777   \n",
       "\n",
       "                         score_time  score_test    predict_time  \n",
       "Случайный лес                 1.605    1531.125  0:00:11.104922  \n",
       "LightGBM: по умолчанию        0.128    1509.337  0:00:01.187194  \n",
       "CatBoost: по умолчанию        0.023    1454.269  0:00:00.199638  \n",
       "LightGBM: после подбора       0.243    1446.221  0:00:01.910787  \n",
       "CatBoost: после подбора       0.037    1434.981  0:00:00.363306  "
      ]
     },
     "execution_count": 78,
     "metadata": {},
     "output_type": "execute_result"
    }
   ],
   "source": [
    "score_table"
   ]
  },
  {
   "cell_type": "markdown",
   "metadata": {},
   "source": [
    "### Проверим модели на выборке, закодированной только методом OHE"
   ]
  },
  {
   "cell_type": "markdown",
   "metadata": {},
   "source": [
    "Не станем распыляться на какие попало модели, сразу проверим две: LightGBM и CatBoost. Для каждого сразу подберем параметры "
   ]
  },
  {
   "cell_type": "code",
   "execution_count": 79,
   "metadata": {},
   "outputs": [],
   "source": [
    "lgbm_ohe = lgbr()"
   ]
  },
  {
   "cell_type": "code",
   "execution_count": 80,
   "metadata": {},
   "outputs": [],
   "source": [
    "# чтоб не тянуть время ниже -- наилучший результат\n",
    "# lgbm_ohe_grid.fit(X_train_ohe, y_train_ohe)\n",
    "#lgbm_ohe_grid.best_params_\n",
    "\n",
    "#думала сначала тут сделать categorical_feature, но их уж очень много получилось"
   ]
  },
  {
   "cell_type": "code",
   "execution_count": null,
   "metadata": {},
   "outputs": [],
   "source": [
    "lgbm_ohe_best = lgbr(num_leaves=70, n_estimators=120, min_child_weight=1, max_depth=13, learning_rate=0.15).fit(X_train_ohe, y_train_ohe)"
   ]
  },
  {
   "cell_type": "code",
   "execution_count": null,
   "metadata": {},
   "outputs": [],
   "source": []
  },
  {
   "cell_type": "code",
   "execution_count": null,
   "metadata": {},
   "outputs": [],
   "source": [
    "cat_ohe = ctbr(random_state=12, eval_metric='RMSE', iterations=1000, verbose=False)"
   ]
  },
  {
   "cell_type": "code",
   "execution_count": null,
   "metadata": {},
   "outputs": [],
   "source": [
    "# долго ищет, поэтому ниже модель с лучшими параметрами\n",
    "# cat_ohe_grid = RandomizedSearchCV(cat_ohe, ctb_reg_params, cv=3, n_jobs=-1)\n",
    "# cat_ohe_grid.fit(X_train_ohe, y_train_ohe)\n",
    "#cat_ohe_grid.best_params_"
   ]
  },
  {
   "cell_type": "code",
   "execution_count": null,
   "metadata": {},
   "outputs": [],
   "source": [
    "cat_ohe_best = ctbr(random_state=12, eval_metric='RMSE', iterations=1000, verbose=False, learning_rate=0.13, l2_leaf_reg=2, depth=9).fit(X_train_ohe, y_train_ohe)"
   ]
  },
  {
   "cell_type": "code",
   "execution_count": null,
   "metadata": {},
   "outputs": [],
   "source": []
  },
  {
   "cell_type": "code",
   "execution_count": null,
   "metadata": {},
   "outputs": [],
   "source": [
    "cat_pred = cat_ohe_best.predict(X_test_ohe)"
   ]
  },
  {
   "cell_type": "code",
   "execution_count": null,
   "metadata": {},
   "outputs": [],
   "source": [
    "score_test = rmse(y_test_ohe, cat_pred)\n",
    "score_test"
   ]
  },
  {
   "cell_type": "code",
   "execution_count": null,
   "metadata": {},
   "outputs": [],
   "source": []
  },
  {
   "cell_type": "code",
   "execution_count": null,
   "metadata": {},
   "outputs": [],
   "source": [
    "jgb_pred = lgbm_ohe_best.predict(X_test_ohe)"
   ]
  },
  {
   "cell_type": "code",
   "execution_count": null,
   "metadata": {},
   "outputs": [],
   "source": [
    "lgb_test = rmse(y_test_ohe, jgb_pred)\n",
    "lgb_test"
   ]
  },
  {
   "cell_type": "markdown",
   "metadata": {},
   "source": [
    "**Вывод:**\n",
    "    Лучше всего справился CatBoost на выборке, закодированной только техникой OHE и с подобранными гиперпараметрами. Результат: 1419"
   ]
  },
  {
   "cell_type": "code",
   "execution_count": null,
   "metadata": {},
   "outputs": [],
   "source": []
  }
 ],
 "metadata": {
  "kernelspec": {
   "display_name": "Python 3",
   "language": "python",
   "name": "python3"
  },
  "language_info": {
   "codemirror_mode": {
    "name": "ipython",
    "version": 3
   },
   "file_extension": ".py",
   "mimetype": "text/x-python",
   "name": "python",
   "nbconvert_exporter": "python",
   "pygments_lexer": "ipython3",
   "version": "3.7.6"
  },
  "toc": {
   "base_numbering": 1,
   "nav_menu": {},
   "number_sections": true,
   "sideBar": true,
   "skip_h1_title": true,
   "title_cell": "Table of Contents",
   "title_sidebar": "Contents",
   "toc_cell": false,
   "toc_position": {},
   "toc_section_display": true,
   "toc_window_display": false
  }
 },
 "nbformat": 4,
 "nbformat_minor": 4
}
