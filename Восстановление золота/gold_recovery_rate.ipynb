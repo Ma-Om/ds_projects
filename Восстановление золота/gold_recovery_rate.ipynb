{
 "cells": [
  {
   "cell_type": "markdown",
   "metadata": {},
   "source": [
    "# Модель предсказания коэффициента восстановления золота из руды\n",
    "\n",
    "Данные с параметрами добычи и очистки золота были предоставлены компанией «Цифра», где разрабатываются решения для эффективной работы промышленных предприятий.\n",
    "\n",
    "**Задача проекта:** модель, которая поможет оптимизировать производство, чтобы не запускать предприятие с убыточными характеристиками."
   ]
  },
  {
   "cell_type": "markdown",
   "metadata": {},
   "source": [
    "### Что нужно спрогнозировать:"
   ]
  },
  {
   "cell_type": "markdown",
   "metadata": {},
   "source": [
    "- эффективность обогащения чернового концентрата `rougher.output.recovery`\n",
    "- эффективность обогащения финального концентрата `final.output.recovery`"
   ]
  },
  {
   "cell_type": "markdown",
   "metadata": {},
   "source": [
    "# Оглавление\n",
    "\n",
    "1. Подготовка данных \n",
    "    * [1.1. Открытые и изучение файлов](#1.1)\n",
    "    * [1.2. Проверка правильности эффективности обогащения](#1.2)\n",
    "    * [1.3. Анализ признаков в тестовой и обучающей выборках](#1.3)    \n",
    "    * [1.4. Предобработка данных](#1.4)\n",
    "\n",
    "2. Анализ данных\n",
    "    * [2.1. Анализ концентрации металлов (Au, Ag, Pb) на различных этапах очистки](#2.1)\n",
    "    * [2.2. Сравнение распределения размеров гранул сырья на обучающей и тестовой выборках](#2.2)\n",
    "    * [2.3. Анализ суммарной концентрации всех веществ на разных стадиях](#2.3)\n",
    "\n",
    "\n",
    "3. Построение модели\n",
    "    * [3.1. Функция для вычисления итоговой sMAPE](#3.1)\n",
    "    * [3.2. Выбор целевых признаков](#3.2)\n",
    "    * [3.3 Выбор модели для эффективностей обогащения](#3.3)\n",
    "    * [3.4 Проверка моделей на тестовой выборке](#3.4)\n",
    " \n",
    "4. [Вывод](#end)"
   ]
  },
  {
   "cell_type": "markdown",
   "metadata": {},
   "source": [
    "# Подключение и настройка необходимых библиотек"
   ]
  },
  {
   "cell_type": "code",
   "execution_count": 2,
   "metadata": {},
   "outputs": [],
   "source": [
    "# отключение предупреждений\n",
    "import warnings; warnings.filterwarnings('ignore', category=Warning)"
   ]
  },
  {
   "cell_type": "code",
   "execution_count": 3,
   "metadata": {},
   "outputs": [],
   "source": [
    "# обновление seaborn\n",
    "#!pip install --upgrade seaborn\n",
    "# обновление sklearn\n",
    "#!pip3 install --upgrade --user --quiet sklearn\n",
    "\n",
    "# установка библиотеки imblearn\n",
    "#!pip install imblearn\n",
    "\n",
    "# если после установки imblearn ломается scikit-learn, то pip install -U scikit-learn==0.23 \n",
    "\n",
    "# установка xgboost и catboost\n",
    "# conda install -c anaconda py-xgboost\n",
    "# conda install catboost и pip install catboost"
   ]
  },
  {
   "cell_type": "code",
   "execution_count": 4,
   "metadata": {},
   "outputs": [],
   "source": [
    "import numpy as np \n",
    "import pandas as pd\n",
    "import seaborn as sns\n",
    "import matplotlib.pyplot as plt\n",
    "from collections import Counter\n",
    "\n",
    "pd.options.display.float_format = '{:.3f}'.format"
   ]
  },
  {
   "cell_type": "code",
   "execution_count": 5,
   "metadata": {},
   "outputs": [],
   "source": [
    "small, medium, large = 14, 16, 22 \n",
    "params = {'figure.figsize': (12, 6),\n",
    "          'figure.titlesize': medium,\n",
    "          'legend.fontsize':  small,\n",
    "          'axes.titlesize':   small,\n",
    "          'axes.labelsize':   small,\n",
    "          'xtick.labelsize':  small,\n",
    "          'ytick.labelsize':  small,\n",
    "          'legend.loc':       'best'}\n",
    "plt.rcParams.update(params)"
   ]
  },
  {
   "cell_type": "code",
   "execution_count": 6,
   "metadata": {},
   "outputs": [],
   "source": [
    "# подключение библиотек машинного обучения\n",
    "from sklearn.model_selection import cross_val_score, cross_validate\n",
    "\n",
    "from sklearn.preprocessing import StandardScaler\n",
    "\n",
    "from sklearn.model_selection import GridSearchCV, RandomizedSearchCV\n",
    "\n",
    "from sklearn.metrics import mean_absolute_error, make_scorer\n",
    "\n",
    "from sklearn.dummy import DummyRegressor\n",
    "\n",
    "from sklearn.linear_model import LinearRegression\n",
    "from sklearn.ensemble import RandomForestRegressor\n",
    "from sklearn.ensemble import GradientBoostingRegressor"
   ]
  },
  {
   "cell_type": "markdown",
   "metadata": {},
   "source": [
    "# 1. Подготовка данных\n",
    "## 1.1. Открытие и изучение файлов <a name=\"1.1\"></a>\n"
   ]
  },
  {
   "cell_type": "markdown",
   "metadata": {},
   "source": [
    "### Наименование признаков\n",
    "`[этап].[тип_параметра].[название_параметра]`\n",
    "\n",
    "Пример: rougher.input.feed_ag\n",
    "\n",
    "Возможные значения для блока `[этап]`:\n",
    "- rougher — флотация\n",
    "- primary_cleaner — первичная очистка\n",
    "- secondary_cleaner — вторичная очистка\n",
    "- final — финальные характеристики\n",
    "\n",
    "Возможные значения для блока `[тип_параметра]`:\n",
    "- input — параметры сырья\n",
    "- output — параметры продукта\n",
    "- state — параметры, характеризующие текущее состояние этапа\n",
    "- calculation — расчётные характеристики"
   ]
  },
  {
   "cell_type": "markdown",
   "metadata": {},
   "source": [
    "'rougher.output.tail_au'\n",
    "'primary_cleaner.output.tail_au'\n",
    "'secondary_cleaner.output.tail_au'\n",
    "\n",
    "\n",
    "эти три - это хвосты после каждого из этапов, а это итоговый хвост, суммарный если можно так сказать:\n",
    "\n",
    "'final.output.tail_au'"
   ]
  },
  {
   "cell_type": "code",
   "execution_count": 7,
   "metadata": {},
   "outputs": [],
   "source": [
    "#напишем функцю для загрузки файла, где file_path -- папка, содержащая df\n",
    "\n",
    "def load_data(file_path, *args, **kwargs):\n",
    "    \"\"\"Загрузка датафрейма Pandas из локального файла file_path\"\"\"\n",
    "    try:\n",
    "        data = pd.read_csv(file_path, *args, **kwargs)\n",
    "        print(f'Файл \"{file_path}\" загружен и готов к использованию')\n",
    "    except FileNotFoundError:\n",
    "        print('Загрузка файла через интернет')\n",
    "        data = pd.read_csv('https://code.s3/'+file_path)\n",
    "    return data"
   ]
  },
  {
   "cell_type": "code",
   "execution_count": 8,
   "metadata": {},
   "outputs": [
    {
     "name": "stdout",
     "output_type": "stream",
     "text": [
      "Файл \"datasets/gold_recovery_train.csv\" загружен и готов к использованию\n",
      "Файл \"datasets/gold_recovery_test.csv\" загружен и готов к использованию\n",
      "Файл \"datasets/gold_recovery_full.csv\" загружен и готов к использованию\n"
     ]
    }
   ],
   "source": [
    "data_train = load_data('datasets/gold_recovery_train.csv', index_col='date')\n",
    "data_test = load_data('datasets/gold_recovery_test.csv', index_col='date')\n",
    "data_full = load_data('datasets/gold_recovery_full.csv', index_col='date')"
   ]
  },
  {
   "cell_type": "code",
   "execution_count": 9,
   "metadata": {},
   "outputs": [],
   "source": [
    "# установим индексам тип DatetimeIndex\n",
    "data_test.index = pd.DatetimeIndex(data_test.index)\n",
    "data_train.index = pd.DatetimeIndex(data_train.index)\n",
    "data_full.index = pd.DatetimeIndex(data_full.index)"
   ]
  },
  {
   "cell_type": "markdown",
   "metadata": {},
   "source": [
    "**Посмотрим на общую информацию о данных в таблицах**"
   ]
  },
  {
   "cell_type": "markdown",
   "metadata": {},
   "source": [
    "Посмотрим на список признаков в нем и пропущенные значения"
   ]
  },
  {
   "cell_type": "code",
   "execution_count": 10,
   "metadata": {},
   "outputs": [
    {
     "name": "stdout",
     "output_type": "stream",
     "text": [
      "<class 'pandas.core.frame.DataFrame'>\n",
      "DatetimeIndex: 22716 entries, 2016-01-15 00:00:00 to 2018-08-18 10:59:59\n",
      "Data columns (total 86 columns):\n",
      " #   Column                                              Non-Null Count  Dtype  \n",
      "---  ------                                              --------------  -----  \n",
      " 0   final.output.concentrate_ag                         22627 non-null  float64\n",
      " 1   final.output.concentrate_pb                         22629 non-null  float64\n",
      " 2   final.output.concentrate_sol                        22331 non-null  float64\n",
      " 3   final.output.concentrate_au                         22630 non-null  float64\n",
      " 4   final.output.recovery                               20753 non-null  float64\n",
      " 5   final.output.tail_ag                                22633 non-null  float64\n",
      " 6   final.output.tail_pb                                22516 non-null  float64\n",
      " 7   final.output.tail_sol                               22445 non-null  float64\n",
      " 8   final.output.tail_au                                22635 non-null  float64\n",
      " 9   primary_cleaner.input.sulfate                       21107 non-null  float64\n",
      " 10  primary_cleaner.input.depressant                    21170 non-null  float64\n",
      " 11  primary_cleaner.input.feed_size                     22716 non-null  float64\n",
      " 12  primary_cleaner.input.xanthate                      21565 non-null  float64\n",
      " 13  primary_cleaner.output.concentrate_ag               22618 non-null  float64\n",
      " 14  primary_cleaner.output.concentrate_pb               22268 non-null  float64\n",
      " 15  primary_cleaner.output.concentrate_sol              21918 non-null  float64\n",
      " 16  primary_cleaner.output.concentrate_au               22618 non-null  float64\n",
      " 17  primary_cleaner.output.tail_ag                      22614 non-null  float64\n",
      " 18  primary_cleaner.output.tail_pb                      22594 non-null  float64\n",
      " 19  primary_cleaner.output.tail_sol                     22365 non-null  float64\n",
      " 20  primary_cleaner.output.tail_au                      22617 non-null  float64\n",
      " 21  primary_cleaner.state.floatbank8_a_air              22660 non-null  float64\n",
      " 22  primary_cleaner.state.floatbank8_a_level            22667 non-null  float64\n",
      " 23  primary_cleaner.state.floatbank8_b_air              22660 non-null  float64\n",
      " 24  primary_cleaner.state.floatbank8_b_level            22673 non-null  float64\n",
      " 25  primary_cleaner.state.floatbank8_c_air              22662 non-null  float64\n",
      " 26  primary_cleaner.state.floatbank8_c_level            22673 non-null  float64\n",
      " 27  primary_cleaner.state.floatbank8_d_air              22661 non-null  float64\n",
      " 28  primary_cleaner.state.floatbank8_d_level            22673 non-null  float64\n",
      " 29  rougher.calculation.sulfate_to_au_concentrate       22672 non-null  float64\n",
      " 30  rougher.calculation.floatbank10_sulfate_to_au_feed  22672 non-null  float64\n",
      " 31  rougher.calculation.floatbank11_sulfate_to_au_feed  22672 non-null  float64\n",
      " 32  rougher.calculation.au_pb_ratio                     21089 non-null  float64\n",
      " 33  rougher.input.feed_ag                               22618 non-null  float64\n",
      " 34  rougher.input.feed_pb                               22472 non-null  float64\n",
      " 35  rougher.input.feed_rate                             22163 non-null  float64\n",
      " 36  rougher.input.feed_size                             22277 non-null  float64\n",
      " 37  rougher.input.feed_sol                              22357 non-null  float64\n",
      " 38  rougher.input.feed_au                               22617 non-null  float64\n",
      " 39  rougher.input.floatbank10_sulfate                   21415 non-null  float64\n",
      " 40  rougher.input.floatbank10_xanthate                  22247 non-null  float64\n",
      " 41  rougher.input.floatbank11_sulfate                   22038 non-null  float64\n",
      " 42  rougher.input.floatbank11_xanthate                  20459 non-null  float64\n",
      " 43  rougher.output.concentrate_ag                       22618 non-null  float64\n",
      " 44  rougher.output.concentrate_pb                       22618 non-null  float64\n",
      " 45  rougher.output.concentrate_sol                      22526 non-null  float64\n",
      " 46  rougher.output.concentrate_au                       22618 non-null  float64\n",
      " 47  rougher.output.recovery                             19597 non-null  float64\n",
      " 48  rougher.output.tail_ag                              19979 non-null  float64\n",
      " 49  rougher.output.tail_pb                              22618 non-null  float64\n",
      " 50  rougher.output.tail_sol                             19980 non-null  float64\n",
      " 51  rougher.output.tail_au                              19980 non-null  float64\n",
      " 52  rougher.state.floatbank10_a_air                     22646 non-null  float64\n",
      " 53  rougher.state.floatbank10_a_level                   22647 non-null  float64\n",
      " 54  rougher.state.floatbank10_b_air                     22646 non-null  float64\n",
      " 55  rougher.state.floatbank10_b_level                   22647 non-null  float64\n",
      " 56  rougher.state.floatbank10_c_air                     22646 non-null  float64\n",
      " 57  rougher.state.floatbank10_c_level                   22654 non-null  float64\n",
      " 58  rougher.state.floatbank10_d_air                     22641 non-null  float64\n",
      " 59  rougher.state.floatbank10_d_level                   22649 non-null  float64\n",
      " 60  rougher.state.floatbank10_e_air                     22096 non-null  float64\n",
      " 61  rougher.state.floatbank10_e_level                   22649 non-null  float64\n",
      " 62  rougher.state.floatbank10_f_air                     22641 non-null  float64\n",
      " 63  rougher.state.floatbank10_f_level                   22642 non-null  float64\n",
      " 64  secondary_cleaner.output.tail_ag                    22616 non-null  float64\n",
      " 65  secondary_cleaner.output.tail_pb                    22600 non-null  float64\n",
      " 66  secondary_cleaner.output.tail_sol                   20501 non-null  float64\n",
      " 67  secondary_cleaner.output.tail_au                    22618 non-null  float64\n",
      " 68  secondary_cleaner.state.floatbank2_a_air            22333 non-null  float64\n",
      " 69  secondary_cleaner.state.floatbank2_a_level          22591 non-null  float64\n",
      " 70  secondary_cleaner.state.floatbank2_b_air            22538 non-null  float64\n",
      " 71  secondary_cleaner.state.floatbank2_b_level          22588 non-null  float64\n",
      " 72  secondary_cleaner.state.floatbank3_a_air            22585 non-null  float64\n",
      " 73  secondary_cleaner.state.floatbank3_a_level          22587 non-null  float64\n",
      " 74  secondary_cleaner.state.floatbank3_b_air            22592 non-null  float64\n",
      " 75  secondary_cleaner.state.floatbank3_b_level          22590 non-null  float64\n",
      " 76  secondary_cleaner.state.floatbank4_a_air            22571 non-null  float64\n",
      " 77  secondary_cleaner.state.floatbank4_a_level          22587 non-null  float64\n",
      " 78  secondary_cleaner.state.floatbank4_b_air            22608 non-null  float64\n",
      " 79  secondary_cleaner.state.floatbank4_b_level          22607 non-null  float64\n",
      " 80  secondary_cleaner.state.floatbank5_a_air            22615 non-null  float64\n",
      " 81  secondary_cleaner.state.floatbank5_a_level          22615 non-null  float64\n",
      " 82  secondary_cleaner.state.floatbank5_b_air            22615 non-null  float64\n",
      " 83  secondary_cleaner.state.floatbank5_b_level          22616 non-null  float64\n",
      " 84  secondary_cleaner.state.floatbank6_a_air            22597 non-null  float64\n",
      " 85  secondary_cleaner.state.floatbank6_a_level          22615 non-null  float64\n",
      "dtypes: float64(86)\n",
      "memory usage: 15.1 MB\n"
     ]
    }
   ],
   "source": [
    "data_full.info()"
   ]
  },
  {
   "cell_type": "code",
   "execution_count": 11,
   "metadata": {},
   "outputs": [
    {
     "name": "stdout",
     "output_type": "stream",
     "text": [
      "(16860, 86)\n",
      "(5856, 52)\n"
     ]
    }
   ],
   "source": [
    "print(data_train.shape)\n",
    "print(data_test.shape)"
   ]
  },
  {
   "cell_type": "markdown",
   "metadata": {},
   "source": [
    "Полный набор данных включает 86 признаков, которые описывают этапы, различные параметры продуктов на каждом этапе и финальные характеристики. Тренировочный сет состоит также из 86 признаков, а вот тестовый  имеет лишь 52, разберемся поподробнее  и выясним, как лучше сравнять количество: добавлением признаков к тестовому или удалением из обучающего. Но сначала разберемся с эффективностью обогащения"
   ]
  },
  {
   "cell_type": "markdown",
   "metadata": {},
   "source": [
    "## 1.2. Проверка правильности эффективности обогащения <a name=\"1.2\"></a>"
   ]
  },
  {
   "cell_type": "markdown",
   "metadata": {},
   "source": [
    "Нужно проверить, что эффективность обогащения рассчитана правильно. Вычислить её на обучающей выборке для признака `rougher.output.recovery`. Найти MAE между расчётами и значением признака. Описать выводы."
   ]
  },
  {
   "cell_type": "markdown",
   "metadata": {},
   "source": [
    "**Эффективность обогащения** рассчитывается по формуле: **C*(F-T) / F*(C-T)**, где\n",
    "- C — доля золота в концентрате после флотации/очистки (`rougher.output.concentrate_au`)\n",
    "- F — доля золота в сырье/концентрате до флотации/очистки (`rougher.input.feed_au`)\n",
    "- T — доля золота в отвальных хвостах после флотации/очистки (`rougher.output.tail_au`)"
   ]
  },
  {
   "cell_type": "code",
   "execution_count": 12,
   "metadata": {},
   "outputs": [],
   "source": [
    "# Напишем функцию для подсчета эффективности обогащения\n",
    "def rougher_recovery(data):\n",
    "    C = data['rougher.output.concentrate_au'] # доля золота в концентрате после флотации\n",
    "    F = data['rougher.input.feed_au'] # доля золота в сырье до флотации\n",
    "    T = data['rougher.output.tail_au'] # доля золота в отвальных хвостах после флотации\n",
    "    recovery = (C*(F-T)) / (F*(C-T))\n",
    "    return recovery * 100"
   ]
  },
  {
   "cell_type": "code",
   "execution_count": 13,
   "metadata": {},
   "outputs": [],
   "source": [
    "# на этапе проверки не будем заполнять значения, чтобы избежать ошибок\n",
    "# выделим данные в отдельных датасет без пропусков\n",
    "data_recovery = data_train[['rougher.output.concentrate_au', 'rougher.input.feed_au', 'rougher.output.tail_au', 'rougher.output.recovery']].dropna()"
   ]
  },
  {
   "cell_type": "code",
   "execution_count": 14,
   "metadata": {},
   "outputs": [],
   "source": [
    "data_recovery['count_rougher_recovery'] = rougher_recovery(data_recovery)"
   ]
  },
  {
   "cell_type": "code",
   "execution_count": 15,
   "metadata": {},
   "outputs": [
    {
     "data": {
      "text/plain": [
       "9.444891926100695e-15"
      ]
     },
     "execution_count": 15,
     "metadata": {},
     "output_type": "execute_result"
    }
   ],
   "source": [
    "# найдем среднее абсолютное отклонение\n",
    "mean_absolute_error(data_recovery['rougher.output.recovery'], data_recovery['count_rougher_recovery'])"
   ]
  },
  {
   "cell_type": "markdown",
   "metadata": {},
   "source": [
    "Для удобства интерпритации напишем функцию, которая определяет МАЕ в процентах"
   ]
  },
  {
   "cell_type": "code",
   "execution_count": 16,
   "metadata": {},
   "outputs": [],
   "source": [
    "def mean_absolute_percentage_error(value_true, value_pred): \n",
    "    return np.mean(np.abs((value_true - value_pred) / value_true)) * 100"
   ]
  },
  {
   "cell_type": "code",
   "execution_count": 17,
   "metadata": {},
   "outputs": [
    {
     "data": {
      "text/plain": [
       "1.186527731137691e-14"
      ]
     },
     "execution_count": 17,
     "metadata": {},
     "output_type": "execute_result"
    }
   ],
   "source": [
    "mean_absolute_percentage_error(data_recovery['rougher.output.recovery'], data_recovery['count_rougher_recovery'])"
   ]
  },
  {
   "cell_type": "markdown",
   "metadata": {},
   "source": [
    "Итак, в среднем реальные значения отличаются от высчитанных вручную на 1.2% (примерно на 9 единиц)"
   ]
  },
  {
   "cell_type": "markdown",
   "metadata": {},
   "source": [
    "## 1.3. Анализ признаков в тестовой и обучающей выборках <a name=\"1.3\"></a>"
   ]
  },
  {
   "cell_type": "code",
   "execution_count": 18,
   "metadata": {},
   "outputs": [
    {
     "name": "stdout",
     "output_type": "stream",
     "text": [
      "<class 'pandas.core.frame.DataFrame'>\n",
      "DatetimeIndex: 16860 entries, 2016-01-15 00:00:00 to 2018-08-18 10:59:59\n",
      "Data columns (total 86 columns):\n",
      " #   Column                                              Non-Null Count  Dtype  \n",
      "---  ------                                              --------------  -----  \n",
      " 0   final.output.concentrate_ag                         16788 non-null  float64\n",
      " 1   final.output.concentrate_pb                         16788 non-null  float64\n",
      " 2   final.output.concentrate_sol                        16490 non-null  float64\n",
      " 3   final.output.concentrate_au                         16789 non-null  float64\n",
      " 4   final.output.recovery                               15339 non-null  float64\n",
      " 5   final.output.tail_ag                                16794 non-null  float64\n",
      " 6   final.output.tail_pb                                16677 non-null  float64\n",
      " 7   final.output.tail_sol                               16715 non-null  float64\n",
      " 8   final.output.tail_au                                16794 non-null  float64\n",
      " 9   primary_cleaner.input.sulfate                       15553 non-null  float64\n",
      " 10  primary_cleaner.input.depressant                    15598 non-null  float64\n",
      " 11  primary_cleaner.input.feed_size                     16860 non-null  float64\n",
      " 12  primary_cleaner.input.xanthate                      15875 non-null  float64\n",
      " 13  primary_cleaner.output.concentrate_ag               16778 non-null  float64\n",
      " 14  primary_cleaner.output.concentrate_pb               16502 non-null  float64\n",
      " 15  primary_cleaner.output.concentrate_sol              16224 non-null  float64\n",
      " 16  primary_cleaner.output.concentrate_au               16778 non-null  float64\n",
      " 17  primary_cleaner.output.tail_ag                      16777 non-null  float64\n",
      " 18  primary_cleaner.output.tail_pb                      16761 non-null  float64\n",
      " 19  primary_cleaner.output.tail_sol                     16579 non-null  float64\n",
      " 20  primary_cleaner.output.tail_au                      16777 non-null  float64\n",
      " 21  primary_cleaner.state.floatbank8_a_air              16820 non-null  float64\n",
      " 22  primary_cleaner.state.floatbank8_a_level            16827 non-null  float64\n",
      " 23  primary_cleaner.state.floatbank8_b_air              16820 non-null  float64\n",
      " 24  primary_cleaner.state.floatbank8_b_level            16833 non-null  float64\n",
      " 25  primary_cleaner.state.floatbank8_c_air              16822 non-null  float64\n",
      " 26  primary_cleaner.state.floatbank8_c_level            16833 non-null  float64\n",
      " 27  primary_cleaner.state.floatbank8_d_air              16821 non-null  float64\n",
      " 28  primary_cleaner.state.floatbank8_d_level            16833 non-null  float64\n",
      " 29  rougher.calculation.sulfate_to_au_concentrate       16833 non-null  float64\n",
      " 30  rougher.calculation.floatbank10_sulfate_to_au_feed  16833 non-null  float64\n",
      " 31  rougher.calculation.floatbank11_sulfate_to_au_feed  16833 non-null  float64\n",
      " 32  rougher.calculation.au_pb_ratio                     15618 non-null  float64\n",
      " 33  rougher.input.feed_ag                               16778 non-null  float64\n",
      " 34  rougher.input.feed_pb                               16632 non-null  float64\n",
      " 35  rougher.input.feed_rate                             16347 non-null  float64\n",
      " 36  rougher.input.feed_size                             16443 non-null  float64\n",
      " 37  rougher.input.feed_sol                              16568 non-null  float64\n",
      " 38  rougher.input.feed_au                               16777 non-null  float64\n",
      " 39  rougher.input.floatbank10_sulfate                   15816 non-null  float64\n",
      " 40  rougher.input.floatbank10_xanthate                  16514 non-null  float64\n",
      " 41  rougher.input.floatbank11_sulfate                   16237 non-null  float64\n",
      " 42  rougher.input.floatbank11_xanthate                  14956 non-null  float64\n",
      " 43  rougher.output.concentrate_ag                       16778 non-null  float64\n",
      " 44  rougher.output.concentrate_pb                       16778 non-null  float64\n",
      " 45  rougher.output.concentrate_sol                      16698 non-null  float64\n",
      " 46  rougher.output.concentrate_au                       16778 non-null  float64\n",
      " 47  rougher.output.recovery                             14287 non-null  float64\n",
      " 48  rougher.output.tail_ag                              14610 non-null  float64\n",
      " 49  rougher.output.tail_pb                              16778 non-null  float64\n",
      " 50  rougher.output.tail_sol                             14611 non-null  float64\n",
      " 51  rougher.output.tail_au                              14611 non-null  float64\n",
      " 52  rougher.state.floatbank10_a_air                     16807 non-null  float64\n",
      " 53  rougher.state.floatbank10_a_level                   16807 non-null  float64\n",
      " 54  rougher.state.floatbank10_b_air                     16807 non-null  float64\n",
      " 55  rougher.state.floatbank10_b_level                   16807 non-null  float64\n",
      " 56  rougher.state.floatbank10_c_air                     16807 non-null  float64\n",
      " 57  rougher.state.floatbank10_c_level                   16814 non-null  float64\n",
      " 58  rougher.state.floatbank10_d_air                     16802 non-null  float64\n",
      " 59  rougher.state.floatbank10_d_level                   16809 non-null  float64\n",
      " 60  rougher.state.floatbank10_e_air                     16257 non-null  float64\n",
      " 61  rougher.state.floatbank10_e_level                   16809 non-null  float64\n",
      " 62  rougher.state.floatbank10_f_air                     16802 non-null  float64\n",
      " 63  rougher.state.floatbank10_f_level                   16802 non-null  float64\n",
      " 64  secondary_cleaner.output.tail_ag                    16776 non-null  float64\n",
      " 65  secondary_cleaner.output.tail_pb                    16764 non-null  float64\n",
      " 66  secondary_cleaner.output.tail_sol                   14874 non-null  float64\n",
      " 67  secondary_cleaner.output.tail_au                    16778 non-null  float64\n",
      " 68  secondary_cleaner.state.floatbank2_a_air            16497 non-null  float64\n",
      " 69  secondary_cleaner.state.floatbank2_a_level          16751 non-null  float64\n",
      " 70  secondary_cleaner.state.floatbank2_b_air            16705 non-null  float64\n",
      " 71  secondary_cleaner.state.floatbank2_b_level          16748 non-null  float64\n",
      " 72  secondary_cleaner.state.floatbank3_a_air            16763 non-null  float64\n",
      " 73  secondary_cleaner.state.floatbank3_a_level          16747 non-null  float64\n",
      " 74  secondary_cleaner.state.floatbank3_b_air            16752 non-null  float64\n",
      " 75  secondary_cleaner.state.floatbank3_b_level          16750 non-null  float64\n",
      " 76  secondary_cleaner.state.floatbank4_a_air            16731 non-null  float64\n",
      " 77  secondary_cleaner.state.floatbank4_a_level          16747 non-null  float64\n",
      " 78  secondary_cleaner.state.floatbank4_b_air            16768 non-null  float64\n",
      " 79  secondary_cleaner.state.floatbank4_b_level          16767 non-null  float64\n",
      " 80  secondary_cleaner.state.floatbank5_a_air            16775 non-null  float64\n",
      " 81  secondary_cleaner.state.floatbank5_a_level          16775 non-null  float64\n",
      " 82  secondary_cleaner.state.floatbank5_b_air            16775 non-null  float64\n",
      " 83  secondary_cleaner.state.floatbank5_b_level          16776 non-null  float64\n",
      " 84  secondary_cleaner.state.floatbank6_a_air            16757 non-null  float64\n",
      " 85  secondary_cleaner.state.floatbank6_a_level          16775 non-null  float64\n",
      "dtypes: float64(86)\n",
      "memory usage: 11.2 MB\n"
     ]
    }
   ],
   "source": [
    "data_train.info()"
   ]
  },
  {
   "cell_type": "markdown",
   "metadata": {},
   "source": [
    "Обучающий сет данных содержит 86 признаков, которые включают в себя:\n",
    "- `final.output` -- финальные характеристики концентратов разных металлов\n",
    "- `primary_cleaner.input` -- параметры сырья на первичном этапе обработки\n",
    "- `primary_cleaner.output` -- параметры продукта на первичном этапе обработки\n",
    "- `primary_cleaner.state` -- параметры, характеризующие текущее состояние первичного этапа\n",
    "- `rougher.calculation` -- расчетные характеристики флотации \n",
    "- `rougher.input` -- параметры сырья флотации\n",
    "- `rougher.output` -- параметры продукта флотации\n",
    "- `rougher.state` -- параметры, характеризующие состояние флотации\n",
    "- `secondary_cleaner.output` -- параметры продукта на втором этапе очистки\n",
    "- `secondary_cleaner.state` -- параметры продукта на втором этапе очистки\n",
    "- целевые признаки `rougher.output.recovery` и `final.output.recovery` "
   ]
  },
  {
   "cell_type": "code",
   "execution_count": 19,
   "metadata": {},
   "outputs": [
    {
     "data": {
      "text/plain": [
       "52"
      ]
     },
     "execution_count": 19,
     "metadata": {},
     "output_type": "execute_result"
    }
   ],
   "source": [
    "# Посмотрим еще раз, сколько признаков находятся в тестовом\n",
    "data_test.shape[1]"
   ]
  },
  {
   "cell_type": "markdown",
   "metadata": {},
   "source": [
    "Их уже 52, значит 34 признака отсутствуют в тестовом наборе. Посмотрим на них подробнее"
   ]
  },
  {
   "cell_type": "code",
   "execution_count": 20,
   "metadata": {},
   "outputs": [],
   "source": [
    "# выделим те столбцы, которые присутсвуют только в обучающем сете\n",
    "columns_train_only = set(data_train.columns) - set(data_test.columns)"
   ]
  },
  {
   "cell_type": "code",
   "execution_count": 21,
   "metadata": {},
   "outputs": [
    {
     "name": "stdout",
     "output_type": "stream",
     "text": [
      "<class 'pandas.core.frame.DataFrame'>\n",
      "DatetimeIndex: 16860 entries, 2016-01-15 00:00:00 to 2018-08-18 10:59:59\n",
      "Data columns (total 34 columns):\n",
      " #   Column                                              Non-Null Count  Dtype  \n",
      "---  ------                                              --------------  -----  \n",
      " 0   final.output.concentrate_ag                         16788 non-null  float64\n",
      " 1   final.output.concentrate_au                         16789 non-null  float64\n",
      " 2   final.output.concentrate_pb                         16788 non-null  float64\n",
      " 3   final.output.concentrate_sol                        16490 non-null  float64\n",
      " 4   final.output.recovery                               15339 non-null  float64\n",
      " 5   final.output.tail_ag                                16794 non-null  float64\n",
      " 6   final.output.tail_au                                16794 non-null  float64\n",
      " 7   final.output.tail_pb                                16677 non-null  float64\n",
      " 8   final.output.tail_sol                               16715 non-null  float64\n",
      " 9   primary_cleaner.output.concentrate_ag               16778 non-null  float64\n",
      " 10  primary_cleaner.output.concentrate_au               16778 non-null  float64\n",
      " 11  primary_cleaner.output.concentrate_pb               16502 non-null  float64\n",
      " 12  primary_cleaner.output.concentrate_sol              16224 non-null  float64\n",
      " 13  primary_cleaner.output.tail_ag                      16777 non-null  float64\n",
      " 14  primary_cleaner.output.tail_au                      16777 non-null  float64\n",
      " 15  primary_cleaner.output.tail_pb                      16761 non-null  float64\n",
      " 16  primary_cleaner.output.tail_sol                     16579 non-null  float64\n",
      " 17  rougher.calculation.au_pb_ratio                     15618 non-null  float64\n",
      " 18  rougher.calculation.floatbank10_sulfate_to_au_feed  16833 non-null  float64\n",
      " 19  rougher.calculation.floatbank11_sulfate_to_au_feed  16833 non-null  float64\n",
      " 20  rougher.calculation.sulfate_to_au_concentrate       16833 non-null  float64\n",
      " 21  rougher.output.concentrate_ag                       16778 non-null  float64\n",
      " 22  rougher.output.concentrate_au                       16778 non-null  float64\n",
      " 23  rougher.output.concentrate_pb                       16778 non-null  float64\n",
      " 24  rougher.output.concentrate_sol                      16698 non-null  float64\n",
      " 25  rougher.output.recovery                             14287 non-null  float64\n",
      " 26  rougher.output.tail_ag                              14610 non-null  float64\n",
      " 27  rougher.output.tail_au                              14611 non-null  float64\n",
      " 28  rougher.output.tail_pb                              16778 non-null  float64\n",
      " 29  rougher.output.tail_sol                             14611 non-null  float64\n",
      " 30  secondary_cleaner.output.tail_ag                    16776 non-null  float64\n",
      " 31  secondary_cleaner.output.tail_au                    16778 non-null  float64\n",
      " 32  secondary_cleaner.output.tail_pb                    16764 non-null  float64\n",
      " 33  secondary_cleaner.output.tail_sol                   14874 non-null  float64\n",
      "dtypes: float64(34)\n",
      "memory usage: 4.5 MB\n"
     ]
    }
   ],
   "source": [
    "# выделим в df и отсортируем столбцы для удобства восприятия\n",
    "data_columns_train_only = data_train[columns_train_only]\n",
    "data_columns_train_only.reindex(sorted(data_columns_train_only.columns), axis=1).info()"
   ]
  },
  {
   "cell_type": "markdown",
   "metadata": {},
   "source": [
    "Что имеем: в тестовой выборке отсутствуют параметры и расчетные характеристики продукта на разных этапах очистки (output иcalculation). Показатели замеряются и/или рассчитываются значительно позже, поэтому модель не будет получать их в будущем на входе. Целесобразно их удалить (плюс удалить целевые признаки, выделив их отдельно). \n",
    "\n",
    "Основываясь на логике, что нам нужно отобрать только те данные, которые модель может получить на вход в самом начале, проанализируем данные в тестовой/тренировочной выборке и решим, какие из них дейтвительно нужны для построения модели, а какие можем смело удалить.\n",
    "\n",
    "Для этого взглянем подробнее на технологический процесс. Нас интересует именно вводные параметры флотации, ведь именно на них мы можем повлиять и только их модель будет получать в дальнейшем на входе "
   ]
  },
  {
   "cell_type": "markdown",
   "metadata": {},
   "source": [
    "**Технологический процесс:**\n",
    "\n",
    "- *Rougher feed* — исходное сырье\n",
    "- *Rougher additions (или reagent additions)* — флотационные реагенты: Xanthate, Sulphate, Depressant\n",
    "- *Xanthate* -— ксантогенат (промотер, или активатор флотации);\n",
    "- *Sulphate* — сульфат (на данном производстве сульфид натрия);\n",
    "- *Depressant* — депрессант (силикат натрия)\n",
    "- *Rougher process* (англ. «грубый процесс») — флотация\n",
    "- *Rougher tails* — отвальные хвосты\n",
    "- *Float banks* — флотационная установка\n",
    "- *Cleaner process* — очистка\n",
    "- *Rougher Au* — черновой концентрат золота\n",
    "- *Final Au* — финальный концентрат золота\n",
    "\n",
    "**Параметры этапов:**\n",
    "- *air amount* — объём воздуха\n",
    "- *fluid levels* — уровень жидкости\n",
    "- *feed size* — размер гранул сырья\n",
    "- *feed rate* — скорость подачи"
   ]
  },
  {
   "cell_type": "code",
   "execution_count": 22,
   "metadata": {},
   "outputs": [
    {
     "data": {
      "text/plain": [
       "Index(['primary_cleaner.input.sulfate', 'primary_cleaner.input.depressant',\n",
       "       'primary_cleaner.input.feed_size', 'primary_cleaner.input.xanthate',\n",
       "       'primary_cleaner.state.floatbank8_a_air',\n",
       "       'primary_cleaner.state.floatbank8_a_level',\n",
       "       'primary_cleaner.state.floatbank8_b_air',\n",
       "       'primary_cleaner.state.floatbank8_b_level',\n",
       "       'primary_cleaner.state.floatbank8_c_air',\n",
       "       'primary_cleaner.state.floatbank8_c_level',\n",
       "       'primary_cleaner.state.floatbank8_d_air',\n",
       "       'primary_cleaner.state.floatbank8_d_level', 'rougher.input.feed_ag',\n",
       "       'rougher.input.feed_pb', 'rougher.input.feed_rate',\n",
       "       'rougher.input.feed_size', 'rougher.input.feed_sol',\n",
       "       'rougher.input.feed_au', 'rougher.input.floatbank10_sulfate',\n",
       "       'rougher.input.floatbank10_xanthate',\n",
       "       'rougher.input.floatbank11_sulfate',\n",
       "       'rougher.input.floatbank11_xanthate', 'rougher.state.floatbank10_a_air',\n",
       "       'rougher.state.floatbank10_a_level', 'rougher.state.floatbank10_b_air',\n",
       "       'rougher.state.floatbank10_b_level', 'rougher.state.floatbank10_c_air',\n",
       "       'rougher.state.floatbank10_c_level', 'rougher.state.floatbank10_d_air',\n",
       "       'rougher.state.floatbank10_d_level', 'rougher.state.floatbank10_e_air',\n",
       "       'rougher.state.floatbank10_e_level', 'rougher.state.floatbank10_f_air',\n",
       "       'rougher.state.floatbank10_f_level',\n",
       "       'secondary_cleaner.state.floatbank2_a_air',\n",
       "       'secondary_cleaner.state.floatbank2_a_level',\n",
       "       'secondary_cleaner.state.floatbank2_b_air',\n",
       "       'secondary_cleaner.state.floatbank2_b_level',\n",
       "       'secondary_cleaner.state.floatbank3_a_air',\n",
       "       'secondary_cleaner.state.floatbank3_a_level',\n",
       "       'secondary_cleaner.state.floatbank3_b_air',\n",
       "       'secondary_cleaner.state.floatbank3_b_level',\n",
       "       'secondary_cleaner.state.floatbank4_a_air',\n",
       "       'secondary_cleaner.state.floatbank4_a_level',\n",
       "       'secondary_cleaner.state.floatbank4_b_air',\n",
       "       'secondary_cleaner.state.floatbank4_b_level',\n",
       "       'secondary_cleaner.state.floatbank5_a_air',\n",
       "       'secondary_cleaner.state.floatbank5_a_level',\n",
       "       'secondary_cleaner.state.floatbank5_b_air',\n",
       "       'secondary_cleaner.state.floatbank5_b_level',\n",
       "       'secondary_cleaner.state.floatbank6_a_air',\n",
       "       'secondary_cleaner.state.floatbank6_a_level'],\n",
       "      dtype='object')"
      ]
     },
     "execution_count": 22,
     "metadata": {},
     "output_type": "execute_result"
    }
   ],
   "source": [
    "data_test.columns"
   ]
  },
  {
   "cell_type": "markdown",
   "metadata": {},
   "source": [
    "В тестовом сете присуствуют все признаки, на которые мы можем влиять в процессе (это вводные данные сырья для флотации и параметры, характеризующие текущее состояние различных этапов: уровень воздуха, жидкости, размер гранул и скорость подачи), добавим целевые признаки из data_full, которые отсутствуют, ведь на них мы будем проверять модель"
   ]
  },
  {
   "cell_type": "code",
   "execution_count": 23,
   "metadata": {},
   "outputs": [],
   "source": [
    "# удалим столбцы из обучающего сета\n",
    "data_train = data_train.drop(columns_train_only, axis=1)"
   ]
  },
  {
   "cell_type": "markdown",
   "metadata": {},
   "source": [
    "## 1.4. Предобработка данных <a name=\"1.4\"></a>"
   ]
  },
  {
   "cell_type": "code",
   "execution_count": 24,
   "metadata": {},
   "outputs": [
    {
     "data": {
      "text/plain": [
       "primary_cleaner.input.sulfate                 1307\n",
       "primary_cleaner.input.depressant              1262\n",
       "primary_cleaner.input.feed_size                  0\n",
       "primary_cleaner.input.xanthate                 985\n",
       "primary_cleaner.state.floatbank8_a_air          40\n",
       "primary_cleaner.state.floatbank8_a_level        33\n",
       "primary_cleaner.state.floatbank8_b_air          40\n",
       "primary_cleaner.state.floatbank8_b_level        27\n",
       "primary_cleaner.state.floatbank8_c_air          38\n",
       "primary_cleaner.state.floatbank8_c_level        27\n",
       "primary_cleaner.state.floatbank8_d_air          39\n",
       "primary_cleaner.state.floatbank8_d_level        27\n",
       "rougher.input.feed_ag                           82\n",
       "rougher.input.feed_pb                          228\n",
       "rougher.input.feed_rate                        513\n",
       "rougher.input.feed_size                        417\n",
       "rougher.input.feed_sol                         292\n",
       "rougher.input.feed_au                           83\n",
       "rougher.input.floatbank10_sulfate             1044\n",
       "rougher.input.floatbank10_xanthate             346\n",
       "rougher.input.floatbank11_sulfate              623\n",
       "rougher.input.floatbank11_xanthate            1904\n",
       "rougher.state.floatbank10_a_air                 53\n",
       "rougher.state.floatbank10_a_level               53\n",
       "rougher.state.floatbank10_b_air                 53\n",
       "rougher.state.floatbank10_b_level               53\n",
       "rougher.state.floatbank10_c_air                 53\n",
       "rougher.state.floatbank10_c_level               46\n",
       "rougher.state.floatbank10_d_air                 58\n",
       "rougher.state.floatbank10_d_level               51\n",
       "rougher.state.floatbank10_e_air                603\n",
       "rougher.state.floatbank10_e_level               51\n",
       "rougher.state.floatbank10_f_air                 58\n",
       "rougher.state.floatbank10_f_level               58\n",
       "secondary_cleaner.state.floatbank2_a_air       363\n",
       "secondary_cleaner.state.floatbank2_a_level     109\n",
       "secondary_cleaner.state.floatbank2_b_air       155\n",
       "secondary_cleaner.state.floatbank2_b_level     112\n",
       "secondary_cleaner.state.floatbank3_a_air        97\n",
       "secondary_cleaner.state.floatbank3_a_level     113\n",
       "secondary_cleaner.state.floatbank3_b_air       108\n",
       "secondary_cleaner.state.floatbank3_b_level     110\n",
       "secondary_cleaner.state.floatbank4_a_air       129\n",
       "secondary_cleaner.state.floatbank4_a_level     113\n",
       "secondary_cleaner.state.floatbank4_b_air        92\n",
       "secondary_cleaner.state.floatbank4_b_level      93\n",
       "secondary_cleaner.state.floatbank5_a_air        85\n",
       "secondary_cleaner.state.floatbank5_a_level      85\n",
       "secondary_cleaner.state.floatbank5_b_air        85\n",
       "secondary_cleaner.state.floatbank5_b_level      84\n",
       "secondary_cleaner.state.floatbank6_a_air       103\n",
       "secondary_cleaner.state.floatbank6_a_level      85\n",
       "dtype: int64"
      ]
     },
     "execution_count": 24,
     "metadata": {},
     "output_type": "execute_result"
    }
   ],
   "source": [
    "# Посмотрим на количество пропущенных значений в выборках\n",
    "data_train.isna().sum()"
   ]
  },
  {
   "cell_type": "code",
   "execution_count": 25,
   "metadata": {},
   "outputs": [
    {
     "data": {
      "text/plain": [
       "primary_cleaner.input.sulfate                 302\n",
       "primary_cleaner.input.depressant              284\n",
       "primary_cleaner.input.feed_size                 0\n",
       "primary_cleaner.input.xanthate                166\n",
       "primary_cleaner.state.floatbank8_a_air         16\n",
       "primary_cleaner.state.floatbank8_a_level       16\n",
       "primary_cleaner.state.floatbank8_b_air         16\n",
       "primary_cleaner.state.floatbank8_b_level       16\n",
       "primary_cleaner.state.floatbank8_c_air         16\n",
       "primary_cleaner.state.floatbank8_c_level       16\n",
       "primary_cleaner.state.floatbank8_d_air         16\n",
       "primary_cleaner.state.floatbank8_d_level       16\n",
       "rougher.input.feed_ag                          16\n",
       "rougher.input.feed_pb                          16\n",
       "rougher.input.feed_rate                        40\n",
       "rougher.input.feed_size                        22\n",
       "rougher.input.feed_sol                         67\n",
       "rougher.input.feed_au                          16\n",
       "rougher.input.floatbank10_sulfate             257\n",
       "rougher.input.floatbank10_xanthate            123\n",
       "rougher.input.floatbank11_sulfate              55\n",
       "rougher.input.floatbank11_xanthate            353\n",
       "rougher.state.floatbank10_a_air                17\n",
       "rougher.state.floatbank10_a_level              16\n",
       "rougher.state.floatbank10_b_air                17\n",
       "rougher.state.floatbank10_b_level              16\n",
       "rougher.state.floatbank10_c_air                17\n",
       "rougher.state.floatbank10_c_level              16\n",
       "rougher.state.floatbank10_d_air                17\n",
       "rougher.state.floatbank10_d_level              16\n",
       "rougher.state.floatbank10_e_air                17\n",
       "rougher.state.floatbank10_e_level              16\n",
       "rougher.state.floatbank10_f_air                17\n",
       "rougher.state.floatbank10_f_level              16\n",
       "secondary_cleaner.state.floatbank2_a_air       20\n",
       "secondary_cleaner.state.floatbank2_a_level     16\n",
       "secondary_cleaner.state.floatbank2_b_air       23\n",
       "secondary_cleaner.state.floatbank2_b_level     16\n",
       "secondary_cleaner.state.floatbank3_a_air       34\n",
       "secondary_cleaner.state.floatbank3_a_level     16\n",
       "secondary_cleaner.state.floatbank3_b_air       16\n",
       "secondary_cleaner.state.floatbank3_b_level     16\n",
       "secondary_cleaner.state.floatbank4_a_air       16\n",
       "secondary_cleaner.state.floatbank4_a_level     16\n",
       "secondary_cleaner.state.floatbank4_b_air       16\n",
       "secondary_cleaner.state.floatbank4_b_level     16\n",
       "secondary_cleaner.state.floatbank5_a_air       16\n",
       "secondary_cleaner.state.floatbank5_a_level     16\n",
       "secondary_cleaner.state.floatbank5_b_air       16\n",
       "secondary_cleaner.state.floatbank5_b_level     16\n",
       "secondary_cleaner.state.floatbank6_a_air       16\n",
       "secondary_cleaner.state.floatbank6_a_level     16\n",
       "dtype: int64"
      ]
     },
     "execution_count": 25,
     "metadata": {},
     "output_type": "execute_result"
    }
   ],
   "source": [
    "data_test.isna().sum()"
   ]
  },
  {
   "cell_type": "markdown",
   "metadata": {},
   "source": [
    "Пропусков не много, но зато они есть в каждом столбце. Но так как соседние по времени параметры часто похожи, заполним их методом interpolate"
   ]
  },
  {
   "cell_type": "code",
   "execution_count": 26,
   "metadata": {},
   "outputs": [],
   "source": [
    "data_test = data_test.interpolate(method='time', axis=0, limit=None, inplace=False, limit_direction='both', downcast=None)\n",
    "data_train = data_train.interpolate(method='time', axis=0, limit=None, inplace=False, limit_direction='both', downcast=None)"
   ]
  },
  {
   "cell_type": "markdown",
   "metadata": {},
   "source": [
    "Пропущенных значений больше нет! Пора приступить к анализу данных"
   ]
  },
  {
   "cell_type": "markdown",
   "metadata": {},
   "source": [
    "# 2. Анализ данных"
   ]
  },
  {
   "cell_type": "markdown",
   "metadata": {},
   "source": [
    "## 2.1. Анализ концентрации металлов (Au, Ag, Pb) на различных этапах очистки <a name=\"2.1\"></a>"
   ]
  },
  {
   "cell_type": "markdown",
   "metadata": {},
   "source": [
    "Будем анализировать данные из полной таблицы. Чтобы не додумывать и не испортить результаты, будем работать с таблицей без пропусков. Для удобства выделим отдельно концентрации металлов на каждом этапе"
   ]
  },
  {
   "cell_type": "code",
   "execution_count": 27,
   "metadata": {},
   "outputs": [],
   "source": [
    "analyze_full = data_full.dropna()"
   ]
  },
  {
   "cell_type": "code",
   "execution_count": 28,
   "metadata": {},
   "outputs": [],
   "source": [
    "# посмотрим на концентрацию золота\n",
    "au_concentrates = [col for col in data_full if 'concentrate_au' in col]"
   ]
  },
  {
   "cell_type": "code",
   "execution_count": 29,
   "metadata": {},
   "outputs": [
    {
     "data": {
      "image/png": "[encoded data removed]",
      "text/plain": [
       "<Figure size 864x432 with 1 Axes>"
      ]
     },
     "metadata": {
      "needs_background": "light"
     },
     "output_type": "display_data"
    }
   ],
   "source": [
    "sns.histplot(data=analyze_full[au_concentrates])\n",
    "plt.xlabel('Концентрация золота') \n",
    "plt.ylabel('Частота') \n",
    "plt.title('Концентрация золота на различных этапах очистки', fontsize=20);"
   ]
  },
  {
   "cell_type": "markdown",
   "metadata": {},
   "source": [
    "Заметили следующее: \n",
    "\n",
    "Во-первых, видим нулевые выбросы. Скорее всего, это ошибка в данных, ведь если мы загружаем первичную смесь золотосодержащей руды, в которой самого золота нет, значит даже нет необходимости проводить над ней манипуляции по очистке, золота нет\n",
    "\n",
    "Во-вторых, концентрация золота увеличивается по мере прохождения этапов очистки: так после флотации с среднем концентрация золота около 20, тогда как в конце это число увеличивается до 40-50\n",
    "\n",
    "\n",
    "Удалим выбросы в сырье в тестовых и обучающих данных"
   ]
  },
  {
   "cell_type": "code",
   "execution_count": 30,
   "metadata": {},
   "outputs": [],
   "source": [
    "data_test = data_test[data_test['rougher.input.feed_au'] != 0]\n",
    "data_train = data_train[data_train['rougher.input.feed_au'] != 0]"
   ]
  },
  {
   "cell_type": "markdown",
   "metadata": {},
   "source": [
    "Теперь взглянем на концентрацию серебра и свинца на различных этапах"
   ]
  },
  {
   "cell_type": "code",
   "execution_count": 31,
   "metadata": {},
   "outputs": [],
   "source": [
    "# выделим их отдельно от золота\n",
    "ag_pb_concentrates = [col for col in data_full for string in ('concentrate_ag', 'concentrate_pb') if string in col]"
   ]
  },
  {
   "cell_type": "code",
   "execution_count": 32,
   "metadata": {},
   "outputs": [
    {
     "data": {
      "image/png": "[encoded data removed]",
      "text/plain": [
       "<Figure size 864x432 with 1 Axes>"
      ]
     },
     "metadata": {
      "needs_background": "light"
     },
     "output_type": "display_data"
    }
   ],
   "source": [
    "sns.histplot(data=analyze_full[ag_pb_concentrates])\n",
    "plt.xlabel('Концентрация серебра и свинца') \n",
    "plt.ylabel('Частота') \n",
    "plt.title('Концентрации серебра и свинца на различных этапах очистки', fontsize=17);"
   ]
  },
  {
   "cell_type": "markdown",
   "metadata": {},
   "source": [
    "Здесь интереснее, помимо того, что также присутствуют выбросы с нулевым значением, концентрация этих металлов отличается. \n",
    "\n",
    "Так концентрация серебра после флотации в среднем в три раза выше, чем на финальном этапе очистки. \n",
    "\n",
    "Концентрация свинца же наоборот, максимальна после флотации, увеличивается после первичной очистки и после второго этапа остается на том же уровне\n",
    "\n",
    "**Вывод:** после каждого этапа очистки концентрация золота увеличивается (причем равномерно после первой и второй очистки). Концентрация серебра уменьшается по мере этапов очистки, а концентрация свинца увеличивается после флотации, затем после первого этапа очистки и после второго не меняется."
   ]
  },
  {
   "cell_type": "markdown",
   "metadata": {},
   "source": [
    "## 2.2. Сравнение распределения размеров гранул сырья на обучающей и тестовой выборках <a name=\"2.2\"></a>"
   ]
  },
  {
   "cell_type": "markdown",
   "metadata": {},
   "source": [
    "Сравним распределения размеров гранул сырья на обучающей и тестовой выборках. Если распределения сильно отличаются друг от друга, оценка модели будет неправильной"
   ]
  },
  {
   "cell_type": "code",
   "execution_count": 33,
   "metadata": {},
   "outputs": [
    {
     "data": {
      "image/png": "[encoded data removed]",
      "text/plain": [
       "<Figure size 864x432 with 1 Axes>"
      ]
     },
     "metadata": {
      "needs_background": "light"
     },
     "output_type": "display_data"
    }
   ],
   "source": [
    "fig, ax = plt.subplots()\n",
    "sns.distplot(data_test['rougher.input.feed_size'], ax=ax, label='Тестовая выборка')\n",
    "sns.distplot(data_train['rougher.input.feed_size'], ax=ax, label='Обучающая выборка')\n",
    "plt.xlabel('Размер гранул') \n",
    "plt.ylabel('Плотность распределения') \n",
    "plt.title('Распределения размеров гранул сырья на обучающей и тестовой выборках', fontsize=15)\n",
    "plt.legend();"
   ]
  },
  {
   "cell_type": "markdown",
   "metadata": {},
   "source": [
    "**Вывод:** распределения в выборках не сильно отличаются друг от друга, можем смело использовать"
   ]
  },
  {
   "cell_type": "markdown",
   "metadata": {},
   "source": [
    "## 2.3. Анализ суммарной концентрации всех веществ на разных стадиях <a name=\"2.3\"></a>"
   ]
  },
  {
   "cell_type": "markdown",
   "metadata": {},
   "source": [
    "Посмотрим на суммарные концентрации всех веществ на разных стадиях: в сырье, в черновом и финальном концентратах"
   ]
  },
  {
   "cell_type": "code",
   "execution_count": 34,
   "metadata": {},
   "outputs": [],
   "source": [
    "input_concentrate = ['rougher.input.feed_ag', 'rougher.input.feed_pb', 'rougher.input.feed_sol', 'rougher.input.feed_au']"
   ]
  },
  {
   "cell_type": "code",
   "execution_count": 35,
   "metadata": {},
   "outputs": [],
   "source": [
    "analyze_full['final_sum_concentrate'] = analyze_full.loc[:,'final.output.concentrate_ag':'final.output.concentrate_au'].sum(axis=1)\n",
    "analyze_full['input_sum_concentrate'] = analyze_full.loc[:,input_concentrate].sum(axis=1)\n",
    "analyze_full['rougher_sum_concentrate'] = analyze_full.loc[:,'rougher.output.concentrate_ag':'rougher.output.concentrate_au'].sum(axis=1)"
   ]
  },
  {
   "cell_type": "code",
   "execution_count": 36,
   "metadata": {},
   "outputs": [
    {
     "data": {
      "image/png": "[encoded data removed]",
      "text/plain": [
       "<Figure size 864x432 with 1 Axes>"
      ]
     },
     "metadata": {
      "needs_background": "light"
     },
     "output_type": "display_data"
    }
   ],
   "source": [
    "fig, ax = plt.subplots()\n",
    "sns.distplot(analyze_full['final_sum_concentrate'], ax=ax, label='Финальный концентрат')\n",
    "sns.distplot(analyze_full['input_sum_concentrate'], ax=ax, label='Сырьевой концентрат')\n",
    "sns.distplot(analyze_full['rougher_sum_concentrate'], ax=ax, label='Черновой концентрат')\n",
    "plt.xlabel('Концентрация веществ') \n",
    "plt.ylabel('Частота') \n",
    "plt.title('Суммарные концентрации всех веществ на разных стадиях', fontsize=15)\n",
    "plt.legend();"
   ]
  },
  {
   "cell_type": "markdown",
   "metadata": {},
   "source": [
    "**Вывод:** суммарная концентрация веществ на всех этапах распределена равномерно. В сырьевом концентрация меньше всего: думаю, это связано с тем, что после очистки увеличивается концентрация золота в сырье. В распределении также присутствуют выбросы, которые мы удалим из тестовой и тренировочной сетов"
   ]
  },
  {
   "cell_type": "code",
   "execution_count": 37,
   "metadata": {},
   "outputs": [
    {
     "data": {
      "image/png": "[encoded data removed]",
      "text/plain": [
       "<Figure size 864x432 with 1 Axes>"
      ]
     },
     "metadata": {
      "needs_background": "light"
     },
     "output_type": "display_data"
    }
   ],
   "source": [
    "# Посмотрим подробнее на выбросы в обучающей выборке\n",
    "sns.boxplot(data_train.loc[:,input_concentrate].sum(axis=1))\n",
    "plt.title('Обучающая выборка: boxplot суммарной концентрации веществ в сырье', fontsize=15);"
   ]
  },
  {
   "cell_type": "code",
   "execution_count": 38,
   "metadata": {},
   "outputs": [],
   "source": [
    "data_train['input_sum_concentrate'] = data_train.loc[:,input_concentrate].sum(axis=1)"
   ]
  },
  {
   "cell_type": "code",
   "execution_count": 39,
   "metadata": {},
   "outputs": [],
   "source": [
    "# напишем функцию для удаления выбросов\n",
    "def drop_anomalies(data,col):\n",
    "    Q1 = data[col].quantile(0.25)\n",
    "    Q3 = data[col].quantile(0.75)\n",
    "    IQR = Q3 - Q1\n",
    "    data = data[(data[col] > (Q1-3*IQR)) & (data[col] < (Q3+3*IQR))]\n",
    "    return data\n"
   ]
  },
  {
   "cell_type": "code",
   "execution_count": 40,
   "metadata": {},
   "outputs": [],
   "source": [
    "drop_anomalies(data_train, 'input_sum_concentrate')\n",
    "del data_train['input_sum_concentrate']"
   ]
  },
  {
   "cell_type": "code",
   "execution_count": 40,
   "metadata": {},
   "outputs": [
    {
     "data": {
      "image/png": "[encoded data removed]",
      "text/plain": [
       "<Figure size 864x432 with 1 Axes>"
      ]
     },
     "metadata": {
      "needs_background": "light"
     },
     "output_type": "display_data"
    }
   ],
   "source": [
    "# теперь взглянем на выбросы в тестовой выборке\n",
    "sns.boxplot(data_test.loc[:,input_concentrate].sum(axis=1))\n",
    "plt.title('Тестовая выборка: boxplot суммарной концентрации веществ в сырье', fontsize=15);"
   ]
  },
  {
   "cell_type": "code",
   "execution_count": 41,
   "metadata": {},
   "outputs": [],
   "source": [
    "# повторим с обучающим сетом и удалим выбросы\n",
    "data_test['input_sum_concentrate'] = data_test.loc[:,input_concentrate].sum(axis=1)\n",
    "\n",
    "drop_anomalies(data_test, 'input_sum_concentrate')\n",
    "del data_test['input_sum_concentrate']"
   ]
  },
  {
   "cell_type": "markdown",
   "metadata": {},
   "source": [
    "# 3. Построение модели\n",
    "## 3.1. Функция для вычисления итоговой sMAPE <a name=\"3.1\"></a>"
   ]
  },
  {
   "cell_type": "code",
   "execution_count": 42,
   "metadata": {},
   "outputs": [],
   "source": [
    "def check_smape_rough(target_rough, pred_rough):\n",
    "    smape_rough = 25/len(pred_rough) * np.sum(2 * np.abs(target_rough - pred_rough) / (np.abs(target_rough) + np.abs(pred_rough)))\n",
    "    return smape_rough\n",
    "\n",
    "def check_smape_final(target_final, pred_final):\n",
    "    smape_final = 75/len(pred_final) * np.sum(2 * np.abs(target_final - pred_final) / (np.abs(target_final) + np.abs(pred_final)))\n",
    "    return smape_final\n"
   ]
  },
  {
   "cell_type": "code",
   "execution_count": 43,
   "metadata": {},
   "outputs": [],
   "source": [
    "scorer_rough = make_scorer(check_smape_rough)\n",
    "scorer_final = make_scorer(check_smape_final)"
   ]
  },
  {
   "cell_type": "markdown",
   "metadata": {},
   "source": [
    "## 3.2. Выбор целевых признаков <a name=\"3.2\"></a>"
   ]
  },
  {
   "cell_type": "markdown",
   "metadata": {},
   "source": [
    "**Целевые признаки:**\n",
    "- эффективность обогащения чернового концентрата `rougher.output.recovery`\n",
    "- эффективность обогащения финального концентрата `final.output.recovery`"
   ]
  },
  {
   "cell_type": "markdown",
   "metadata": {},
   "source": [
    "Обоих целевых признаков нет как в обучающей, так и в тестовой выборках. Зато они есть в полном сете, откуда мы их и подтянем"
   ]
  },
  {
   "cell_type": "code",
   "execution_count": 44,
   "metadata": {},
   "outputs": [],
   "source": [
    "rougher_target = data_full['rougher.output.recovery']\n",
    "final_target = data_full['final.output.recovery']"
   ]
  },
  {
   "cell_type": "code",
   "execution_count": 45,
   "metadata": {},
   "outputs": [],
   "source": [
    "# присоединим целевые признаки к выборкам\n",
    "data_test = data_test.join([rougher_target, final_target])"
   ]
  },
  {
   "cell_type": "code",
   "execution_count": 46,
   "metadata": {},
   "outputs": [],
   "source": [
    "data_train = data_train.join([rougher_target, final_target])"
   ]
  },
  {
   "cell_type": "code",
   "execution_count": 47,
   "metadata": {},
   "outputs": [
    {
     "name": "stdout",
     "output_type": "stream",
     "text": [
      "Тестовая выборка: пропуски в черновом концентрате 140\n",
      "Тестовая выборка: пропуски в финальном концентрате 42\n"
     ]
    }
   ],
   "source": [
    "print('Тестовая выборка: пропуски в черновом концентрате', data_test['rougher.output.recovery'].isna().sum())\n",
    "print('Тестовая выборка: пропуски в финальном концентрате', data_test['final.output.recovery'].isna().sum())"
   ]
  },
  {
   "cell_type": "code",
   "execution_count": 48,
   "metadata": {},
   "outputs": [
    {
     "name": "stdout",
     "output_type": "stream",
     "text": [
      "Обучающая выборка: пропуски в черновом концентрате 862\n",
      "Обучающая выборка: пропуски в финальном концентрате 176\n"
     ]
    }
   ],
   "source": [
    "print('Обучающая выборка: пропуски в черновом концентрате', data_train['rougher.output.recovery'].isna().sum())\n",
    "print('Обучающая выборка: пропуски в финальном концентрате', data_train['final.output.recovery'].isna().sum())"
   ]
  },
  {
   "cell_type": "code",
   "execution_count": 49,
   "metadata": {},
   "outputs": [],
   "source": [
    "# удалим пропуски в целевых значениях в обучающем сете, в тестовом не будем, так как\n",
    "data_train = data_train.dropna()\n",
    "data_test = data_test.dropna()"
   ]
  },
  {
   "cell_type": "markdown",
   "metadata": {},
   "source": [
    "Выделим признаки и таргет отдельно. Так как нам нужно предсказать два показателя: эффективность обогащения **чернового концентрата** и эффективность обогащения **финального концентрата**, то логично сделать два отдельных набора признаков для предсказания. \n",
    "\n",
    "По части мы будем предсказывать `rougher.output.recovery`, ведь она зависит исключительно от вводных данных (остальные открываются только после флотации)\n",
    "\n",
    "Второй показатель `final.output.recovery` уже зависит от большего количества вводных данных, которые к тому же могут меняться и после флотации. Выделим их отдельно"
   ]
  },
  {
   "cell_type": "code",
   "execution_count": 50,
   "metadata": {},
   "outputs": [],
   "source": [
    "feature_train_rougher = data_train.loc[:, 'rougher.input.feed_ag':'rougher.state.floatbank10_f_level']\n",
    "target_train_rougher = data_train['rougher.output.recovery']\n",
    "\n",
    "feature_train_final = data_train.loc[:, 'primary_cleaner.input.sulfate':'secondary_cleaner.state.floatbank6_a_level']\n",
    "target_train_final = data_train['final.output.recovery']"
   ]
  },
  {
   "cell_type": "code",
   "execution_count": 51,
   "metadata": {},
   "outputs": [],
   "source": [
    "feature_test_rougher = data_test.loc[:, 'rougher.input.feed_ag':'rougher.state.floatbank10_f_level']\n",
    "target_test_rougher = data_test['rougher.output.recovery']\n",
    "\n",
    "feature_test_final = data_test.loc[:, 'primary_cleaner.input.sulfate':'secondary_cleaner.state.floatbank6_a_level']\n",
    "target_test_final = data_test['final.output.recovery']"
   ]
  },
  {
   "cell_type": "markdown",
   "metadata": {},
   "source": [
    "Теперь, когда мы имеем 2 разных набора признаков для каждого показателя эффективности обогащения, приведем их к одному масштабу и приступим к выбору предсказательной модели"
   ]
  },
  {
   "cell_type": "code",
   "execution_count": 52,
   "metadata": {},
   "outputs": [],
   "source": [
    "# Приведем числовые признаки к одному масштабу\n",
    "scaler_rougher = StandardScaler().fit(feature_train_rougher)\n",
    "scaler_final = StandardScaler().fit(feature_train_final)\n",
    "\n",
    "# преобразуем данные \n",
    "feature_train_rougher = scaler_rougher.transform(feature_train_rougher)\n",
    "feature_test_rougher = scaler_rougher.transform(feature_test_rougher)\n",
    "\n",
    "feature_train_final = scaler_final.transform(feature_train_final)\n",
    "feature_test_final = scaler_final.transform(feature_test_final)"
   ]
  },
  {
   "cell_type": "markdown",
   "metadata": {},
   "source": [
    "## 3.3 Выбор модели для эффективностей обогащения <a name=\"3.3\"></a>"
   ]
  },
  {
   "cell_type": "markdown",
   "metadata": {},
   "source": [
    "### Baseline модель"
   ]
  },
  {
   "cell_type": "markdown",
   "metadata": {},
   "source": [
    "Перед тем, как приступить к обучению моделей и подбору подходящих параметров, создадим простейшую модель, которая всегда предсказывает среднее значение. Так мы сможем сравнить результаты нашей будущей модели с результатами dummy модели, которая выдает только один вариант"
   ]
  },
  {
   "cell_type": "code",
   "execution_count": 53,
   "metadata": {},
   "outputs": [],
   "source": [
    "# random_state для всех моделей на будущее\n",
    "rs = 12"
   ]
  },
  {
   "cell_type": "code",
   "execution_count": 54,
   "metadata": {},
   "outputs": [
    {
     "data": {
      "text/plain": [
       "DummyRegressor()"
      ]
     },
     "execution_count": 54,
     "metadata": {},
     "output_type": "execute_result"
    }
   ],
   "source": [
    "dummy_regr_rougher = DummyRegressor(strategy=\"mean\")\n",
    "\n",
    "dummy_regr_rougher.fit(feature_train_rougher, target_train_rougher)"
   ]
  },
  {
   "cell_type": "code",
   "execution_count": 80,
   "metadata": {},
   "outputs": [
    {
     "data": {
      "text/plain": [
       "DummyRegressor()"
      ]
     },
     "execution_count": 80,
     "metadata": {},
     "output_type": "execute_result"
    }
   ],
   "source": [
    "dummy_regr_final = DummyRegressor(strategy=\"mean\")\n",
    "\n",
    "dummy_regr_final.fit(feature_train_final, target_train_final)"
   ]
  },
  {
   "cell_type": "code",
   "execution_count": 55,
   "metadata": {},
   "outputs": [
    {
     "data": {
      "text/plain": [
       "3.024028445136307"
      ]
     },
     "execution_count": 55,
     "metadata": {},
     "output_type": "execute_result"
    }
   ],
   "source": [
    "np.mean(cross_val_score(\n",
    "    dummy_regr_rougher, \n",
    "    feature_train_rougher, \n",
    "    target_train_rougher, \n",
    "    scoring=make_scorer(check_smape_rough), \n",
    "    cv=5, \n",
    "    n_jobs=-1)\n",
    ")"
   ]
  },
  {
   "cell_type": "markdown",
   "metadata": {},
   "source": [
    "Итак, наша дамми-модель  выдает далеко не лучшие результаты, предсказывая все время среднее значение. Посмотрим на результаты осмысленных моделей"
   ]
  },
  {
   "cell_type": "markdown",
   "metadata": {},
   "source": [
    "### Линейная регрессия"
   ]
  },
  {
   "cell_type": "code",
   "execution_count": 56,
   "metadata": {},
   "outputs": [
    {
     "data": {
      "text/plain": [
       "LinearRegression()"
      ]
     },
     "execution_count": 56,
     "metadata": {},
     "output_type": "execute_result"
    }
   ],
   "source": [
    "regressor_rougher = LinearRegression()\n",
    "regressor_rougher.fit(feature_train_rougher, target_train_rougher)"
   ]
  },
  {
   "cell_type": "code",
   "execution_count": 57,
   "metadata": {},
   "outputs": [
    {
     "data": {
      "text/plain": [
       "3.0564619453964186"
      ]
     },
     "execution_count": 57,
     "metadata": {},
     "output_type": "execute_result"
    }
   ],
   "source": [
    "np.mean(\n",
    "    cross_val_score(\n",
    "    regressor_rougher, \n",
    "    feature_train_rougher, \n",
    "    target_train_rougher, \n",
    "    scoring=make_scorer(check_smape_rough), \n",
    "    cv=5, \n",
    "    n_jobs=-1)\n",
    ")"
   ]
  },
  {
   "cell_type": "markdown",
   "metadata": {},
   "source": [
    "Линейная регрессия здесь явно не фаворит гонки, она ненамного превзошла дамми-модель "
   ]
  },
  {
   "cell_type": "markdown",
   "metadata": {},
   "source": [
    "### Случайный лес"
   ]
  },
  {
   "cell_type": "code",
   "execution_count": 58,
   "metadata": {},
   "outputs": [],
   "source": [
    "rf_rough = RandomForestRegressor(random_state=rs)"
   ]
  },
  {
   "cell_type": "code",
   "execution_count": 59,
   "metadata": {},
   "outputs": [
    {
     "data": {
      "text/plain": [
       "RandomForestRegressor(random_state=12)"
      ]
     },
     "execution_count": 59,
     "metadata": {},
     "output_type": "execute_result"
    }
   ],
   "source": [
    "rf_rough.fit(feature_train_rougher, target_train_rougher)"
   ]
  },
  {
   "cell_type": "code",
   "execution_count": 60,
   "metadata": {},
   "outputs": [
    {
     "data": {
      "text/plain": [
       "3.432824849541878"
      ]
     },
     "execution_count": 60,
     "metadata": {},
     "output_type": "execute_result"
    }
   ],
   "source": [
    "np.mean(\n",
    "    cross_val_score(\n",
    "    rf_rough, \n",
    "    feature_train_rougher, \n",
    "    target_train_rougher, \n",
    "    scoring=make_scorer(check_smape_rough), \n",
    "    cv=5, \n",
    "    n_jobs=-1)\n",
    ")"
   ]
  },
  {
   "cell_type": "markdown",
   "metadata": {},
   "source": [
    "Ладно, случайный лес с параметрами по умолчанию, все-таки ты справился лучше, чем линейная регрессия. Проверим его результаты на эффективности обогащения финального концентрата"
   ]
  },
  {
   "cell_type": "code",
   "execution_count": 61,
   "metadata": {},
   "outputs": [],
   "source": [
    "rf_final = RandomForestRegressor(random_state=rs)"
   ]
  },
  {
   "cell_type": "code",
   "execution_count": 62,
   "metadata": {},
   "outputs": [
    {
     "data": {
      "text/plain": [
       "RandomForestRegressor(random_state=12)"
      ]
     },
     "execution_count": 62,
     "metadata": {},
     "output_type": "execute_result"
    }
   ],
   "source": [
    "rf_final.fit(feature_train_final, target_train_final)"
   ]
  },
  {
   "cell_type": "code",
   "execution_count": 63,
   "metadata": {},
   "outputs": [
    {
     "data": {
      "text/plain": [
       "8.396183668843252"
      ]
     },
     "execution_count": 63,
     "metadata": {},
     "output_type": "execute_result"
    }
   ],
   "source": [
    "np.mean(\n",
    "    cross_val_score(\n",
    "    rf_final, \n",
    "    feature_train_final, \n",
    "    target_train_final, \n",
    "    scoring=scorer_final, \n",
    "    cv=5, \n",
    "    n_jobs=-1)\n",
    ")"
   ]
  },
  {
   "cell_type": "markdown",
   "metadata": {},
   "source": [
    "Итог: в сумме эти две метрики должны дать нам довольно неплохую итоговую sMAPE, но мы еще проверим в деле градиентный бустинг"
   ]
  },
  {
   "cell_type": "markdown",
   "metadata": {},
   "source": [
    "### Градиентный бустинг"
   ]
  },
  {
   "cell_type": "code",
   "execution_count": 64,
   "metadata": {},
   "outputs": [
    {
     "name": "stdout",
     "output_type": "stream",
     "text": [
      "CPU times: user 12.7 s, sys: 39.7 ms, total: 12.8 s\n",
      "Wall time: 12.8 s\n"
     ]
    },
    {
     "data": {
      "text/plain": [
       "GradientBoostingRegressor(random_state=12)"
      ]
     },
     "execution_count": 64,
     "metadata": {},
     "output_type": "execute_result"
    }
   ],
   "source": [
    "%%time\n",
    "gb_rough = GradientBoostingRegressor(random_state=rs)\n",
    "gb_rough.fit(feature_train_rougher, target_train_rougher)"
   ]
  },
  {
   "cell_type": "code",
   "execution_count": 65,
   "metadata": {},
   "outputs": [
    {
     "data": {
      "text/plain": [
       "3.1468947918027417"
      ]
     },
     "execution_count": 65,
     "metadata": {},
     "output_type": "execute_result"
    }
   ],
   "source": [
    "np.mean(\n",
    "    cross_val_score(\n",
    "    gb_rough, \n",
    "    feature_train_rougher, \n",
    "    target_train_rougher, \n",
    "    scoring=scorer_rough, \n",
    "    cv=5, \n",
    "    n_jobs=-1)\n",
    ")"
   ]
  },
  {
   "cell_type": "code",
   "execution_count": 66,
   "metadata": {},
   "outputs": [
    {
     "data": {
      "text/plain": [
       "GradientBoostingRegressor(max_depth=8, n_estimators=70, random_state=12)"
      ]
     },
     "execution_count": 66,
     "metadata": {},
     "output_type": "execute_result"
    }
   ],
   "source": [
    "# Настроим показатели для модели: количество деревьев (n_estimators) и максимальную глубину (max_depth)\n",
    "best_gbm = GradientBoostingRegressor(n_estimators=70, max_depth=8, random_state=rs)\n",
    "best_gbm.fit(feature_train_rougher, target_train_rougher)"
   ]
  },
  {
   "cell_type": "code",
   "execution_count": 67,
   "metadata": {},
   "outputs": [
    {
     "data": {
      "text/plain": [
       "3.5824055504997765"
      ]
     },
     "execution_count": 67,
     "metadata": {},
     "output_type": "execute_result"
    }
   ],
   "source": [
    "np.mean(\n",
    "    cross_val_score(\n",
    "    best_gbm, \n",
    "    feature_train_rougher, \n",
    "    target_train_rougher, \n",
    "    scoring=scorer_rough, \n",
    "    cv=5, \n",
    "    n_jobs=-1)\n",
    ")"
   ]
  },
  {
   "cell_type": "markdown",
   "metadata": {},
   "source": [
    "Проверим результаты градиентного бустинга на эффективности обогащения финального концентрата"
   ]
  },
  {
   "cell_type": "code",
   "execution_count": 68,
   "metadata": {},
   "outputs": [
    {
     "data": {
      "text/plain": [
       "GradientBoostingRegressor(max_depth=8, n_estimators=70, random_state=12)"
      ]
     },
     "execution_count": 68,
     "metadata": {},
     "output_type": "execute_result"
    }
   ],
   "source": [
    "gbm_final = GradientBoostingRegressor(n_estimators=70, max_depth=8, random_state=rs)\n",
    "gbm_final.fit(feature_train_final, target_train_final)"
   ]
  },
  {
   "cell_type": "code",
   "execution_count": 69,
   "metadata": {},
   "outputs": [
    {
     "data": {
      "text/plain": [
       "8.96862824991425"
      ]
     },
     "execution_count": 69,
     "metadata": {},
     "output_type": "execute_result"
    }
   ],
   "source": [
    "np.mean(\n",
    "    cross_val_score(\n",
    "    gbm_final, \n",
    "    feature_train_final, \n",
    "    target_train_final, \n",
    "    scoring=scorer_final, \n",
    "    cv=5, \n",
    "    n_jobs=-1)\n",
    ")"
   ]
  },
  {
   "cell_type": "markdown",
   "metadata": {},
   "source": [
    "Неплохие результаты, проверим случайный лес с параметрами по умолчанию и градиентный бустинг на тестовой выборке"
   ]
  },
  {
   "cell_type": "markdown",
   "metadata": {},
   "source": [
    "## 3.4 Проверка моделей на тестовой выборке <a name=\"3.4\"></a>"
   ]
  },
  {
   "cell_type": "code",
   "execution_count": 70,
   "metadata": {},
   "outputs": [],
   "source": [
    "rf_rough_test_pred = rf_rough.predict(feature_test_rougher)"
   ]
  },
  {
   "cell_type": "code",
   "execution_count": 71,
   "metadata": {},
   "outputs": [],
   "source": [
    "rf_final_test_pred = rf_final.predict(feature_test_final)"
   ]
  },
  {
   "cell_type": "code",
   "execution_count": 72,
   "metadata": {},
   "outputs": [],
   "source": [
    "rf_sMAPE = check_smape_rough(target_test_rougher, rf_rough_test_pred) + check_smape_final(target_test_final, rf_final_test_pred)"
   ]
  },
  {
   "cell_type": "code",
   "execution_count": 73,
   "metadata": {},
   "outputs": [
    {
     "name": "stdout",
     "output_type": "stream",
     "text": [
      "Итоговый sMAPE случайного леса: 11.068113425287901\n"
     ]
    }
   ],
   "source": [
    "print('Итоговый sMAPE случайного леса:', rf_sMAPE)"
   ]
  },
  {
   "cell_type": "markdown",
   "metadata": {},
   "source": [
    "Браво, случайный лес, довльно хороший результат на тестовой выборке! "
   ]
  },
  {
   "cell_type": "code",
   "execution_count": 74,
   "metadata": {},
   "outputs": [],
   "source": [
    "gbm_rough_test_pred = best_gbm.predict(feature_test_rougher)"
   ]
  },
  {
   "cell_type": "code",
   "execution_count": 75,
   "metadata": {},
   "outputs": [],
   "source": [
    "gbm_final_test_pred = gbm_final.predict(feature_test_final)"
   ]
  },
  {
   "cell_type": "code",
   "execution_count": 76,
   "metadata": {},
   "outputs": [],
   "source": [
    "gbm_sMAPE = check_smape_rough(target_test_rougher, gbm_rough_test_pred) + check_smape_final(target_test_final, gbm_final_test_pred)"
   ]
  },
  {
   "cell_type": "code",
   "execution_count": 77,
   "metadata": {},
   "outputs": [
    {
     "name": "stdout",
     "output_type": "stream",
     "text": [
      "Итоговый sMAPE случайного леса: 10.644697828214332\n"
     ]
    }
   ],
   "source": [
    "print('Итоговый sMAPE случайного леса:', gbm_sMAPE)"
   ]
  },
  {
   "cell_type": "markdown",
   "metadata": {},
   "source": [
    "## Вывод: <a name=\"end\"></a>\n",
    "Нам удалось предсказать эффективность обогащения чернового и финального концентрата с итоговым результатом 11 sMAPE  c помощью случайного леса с параметрами по умолчанию. Ура!"
   ]
  }
 ],
 "metadata": {
  "kernelspec": {
   "display_name": "Python 3",
   "language": "python",
   "name": "python3"
  },
  "language_info": {
   "codemirror_mode": {
    "name": "ipython",
    "version": 3
   },
   "file_extension": ".py",
   "mimetype": "text/x-python",
   "name": "python",
   "nbconvert_exporter": "python",
   "pygments_lexer": "ipython3",
   "version": "3.7.6"
  }
 },
 "nbformat": 4,
 "nbformat_minor": 4
}
